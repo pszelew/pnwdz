{
 "cells": [
  {
   "cell_type": "code",
   "execution_count": 19,
   "metadata": {},
   "outputs": [],
   "source": [
    "import pandas as pd\n",
    "import glob\n",
    "import json\n",
    "import geopandas\n",
    "import geocoder\n",
    "import folium\n",
    "import json\n",
    "import ast\n",
    "import re\n",
    "import numpy as np\n",
    "import matplotlib.pyplot as plt\n",
    "\n",
    "from geopy.geocoders import Nominatim\n",
    "from shapely.geometry import Polygon, LineString, Point"
   ]
  },
  {
   "cell_type": "code",
   "execution_count": 5,
   "metadata": {},
   "outputs": [],
   "source": [
    "offers_df = pd.read_csv('all_data\\oferta_eksport_final.csv')\n",
    "pracuj_df = pd.read_csv('all_data\\pracuj_inferred_location.csv')"
   ]
  },
  {
   "cell_type": "markdown",
   "metadata": {},
   "source": [
    "### Mergowanie datasetów"
   ]
  },
  {
   "cell_type": "code",
   "execution_count": 62,
   "metadata": {},
   "outputs": [
    {
     "data": {
      "text/html": [
       "<div>\n",
       "<style scoped>\n",
       "    .dataframe tbody tr th:only-of-type {\n",
       "        vertical-align: middle;\n",
       "    }\n",
       "\n",
       "    .dataframe tbody tr th {\n",
       "        vertical-align: top;\n",
       "    }\n",
       "\n",
       "    .dataframe thead th {\n",
       "        text-align: right;\n",
       "    }\n",
       "</style>\n",
       "<table border=\"1\" class=\"dataframe\">\n",
       "  <thead>\n",
       "    <tr style=\"text-align: right;\">\n",
       "      <th></th>\n",
       "      <th>position</th>\n",
       "      <th>location</th>\n",
       "      <th>contract</th>\n",
       "      <th>employer</th>\n",
       "      <th>starting_from</th>\n",
       "      <th>address</th>\n",
       "      <th>open_street_raw</th>\n",
       "    </tr>\n",
       "  </thead>\n",
       "  <tbody>\n",
       "    <tr>\n",
       "      <th>0</th>\n",
       "      <td>Pomocniczy robotnik drogowy</td>\n",
       "      <td>05-622 Odrzywołek 8a, powiat: grójecki, woj: ...</td>\n",
       "      <td>Umowa o pracę na czas określony</td>\n",
       "      <td>POWIATOWY ZARZĄD DRÓG W GRÓJCU.</td>\n",
       "      <td>04.01.2022</td>\n",
       "      <td>05-622 Odrzywołek 8a</td>\n",
       "      <td>{'place_id': 30857090, 'licence': 'Data © Open...</td>\n",
       "    </tr>\n",
       "    <tr>\n",
       "      <th>1</th>\n",
       "      <td>Pomocniczy robotnik drogowy</td>\n",
       "      <td>05-622 Odrzywołek 8a, powiat: grójecki, woj: ...</td>\n",
       "      <td>Umowa o pracę na czas określony</td>\n",
       "      <td>POWIATOWY ZARZĄD DRÓG W GRÓJCU.</td>\n",
       "      <td>04.01.2022</td>\n",
       "      <td>05-622 Odrzywołek 8a</td>\n",
       "      <td>{'place_id': 30857090, 'licence': 'Data © Open...</td>\n",
       "    </tr>\n",
       "    <tr>\n",
       "      <th>2</th>\n",
       "      <td>Betoniarz-zbrojarz</td>\n",
       "      <td>Ujście, powiat: pilski, woj: wielkopolskie</td>\n",
       "      <td>Umowa o pracę na okres próbny</td>\n",
       "      <td>kontakt przez PUP</td>\n",
       "      <td>05.01.2022</td>\n",
       "      <td>Ujście</td>\n",
       "      <td>{'place_id': 282527944, 'licence': 'Data © Ope...</td>\n",
       "    </tr>\n",
       "    <tr>\n",
       "      <th>3</th>\n",
       "      <td>Spawacz (nr 0039)</td>\n",
       "      <td>Bydgoska 2D, 89-200 Zamość, powiat: nakielski...</td>\n",
       "      <td>Umowa zlecenie / Umowa o świadczenie usług</td>\n",
       "      <td>Warsztat Mechaniczny Maszyn Rolniczych i Ślus...</td>\n",
       "      <td>05.01.2022</td>\n",
       "      <td>Bydgoska 2D</td>\n",
       "      <td>{'place_id': 321954131, 'licence': 'Data © Ope...</td>\n",
       "    </tr>\n",
       "    <tr>\n",
       "      <th>4</th>\n",
       "      <td>stróż (nr 0038)</td>\n",
       "      <td>85-001 Bydgoszcz, powiat: m. Bydgoszcz, woj: ...</td>\n",
       "      <td>Umowa o pracę na czas określony</td>\n",
       "      <td>SOLID SECURITY SPÓŁKA Z OGRANICZONĄ ODPOWIEDZ...</td>\n",
       "      <td>05.01.2022</td>\n",
       "      <td>85-001 Bydgoszcz</td>\n",
       "      <td>{'place_id': 282271219, 'licence': 'Data © Ope...</td>\n",
       "    </tr>\n",
       "    <tr>\n",
       "      <th>...</th>\n",
       "      <td>...</td>\n",
       "      <td>...</td>\n",
       "      <td>...</td>\n",
       "      <td>...</td>\n",
       "      <td>...</td>\n",
       "      <td>...</td>\n",
       "      <td>...</td>\n",
       "    </tr>\n",
       "    <tr>\n",
       "      <th>17180</th>\n",
       "      <td>monter stolarki okiennej i drzwiowej</td>\n",
       "      <td>Pszczyna, powiat: pszczyński, woj: śląskie</td>\n",
       "      <td>Umowa o pracę na czas określony</td>\n",
       "      <td>kontakt przez PUP</td>\n",
       "      <td>02.12.2016</td>\n",
       "      <td>Pszczyna</td>\n",
       "      <td>{'place_id': 282381696, 'licence': 'Data © Ope...</td>\n",
       "    </tr>\n",
       "    <tr>\n",
       "      <th>17181</th>\n",
       "      <td>montażysta elewacji wentylowanej</td>\n",
       "      <td>Pszczyna, powiat: pszczyński, woj: śląskie</td>\n",
       "      <td>Umowa o pracę na czas określony</td>\n",
       "      <td>kontakt przez PUP</td>\n",
       "      <td>13.01.2016</td>\n",
       "      <td>Pszczyna</td>\n",
       "      <td>{'place_id': 282381696, 'licence': 'Data © Ope...</td>\n",
       "    </tr>\n",
       "    <tr>\n",
       "      <th>17182</th>\n",
       "      <td>prace interwencyjne-stolarz meblowy/montażysta...</td>\n",
       "      <td>Ruda Śląska, powiat: m. Ruda Śląska, woj: ślą...</td>\n",
       "      <td>Umowa o pracę na czas określony</td>\n",
       "      <td>kontakt przez PUP</td>\n",
       "      <td>05.09.2017</td>\n",
       "      <td>Ruda Śląska</td>\n",
       "      <td>{'place_id': 282341375, 'licence': 'Data © Ope...</td>\n",
       "    </tr>\n",
       "    <tr>\n",
       "      <th>17183</th>\n",
       "      <td>blacharz samochodowy</td>\n",
       "      <td>Studzionka, powiat: pszczyński, woj: śląskie</td>\n",
       "      <td>Umowa o pracę na czas określony</td>\n",
       "      <td>kontakt przez PUP</td>\n",
       "      <td>07.01.2016</td>\n",
       "      <td>Studzionka</td>\n",
       "      <td>{'place_id': 283020402, 'licence': 'Data © Ope...</td>\n",
       "    </tr>\n",
       "    <tr>\n",
       "      <th>17184</th>\n",
       "      <td>Pracownik montażu/serwisant (elektryk)</td>\n",
       "      <td>Ampérova  444, 463 12 Liberec 23, Czechy</td>\n",
       "      <td>Umowa o pracę na czas nieokreślony</td>\n",
       "      <td>BMTO GROUP a.s.</td>\n",
       "      <td>19.10.2020</td>\n",
       "      <td>Ampérova  444</td>\n",
       "      <td>{'place_id': 18537089, 'licence': 'Data © Open...</td>\n",
       "    </tr>\n",
       "  </tbody>\n",
       "</table>\n",
       "<p>17185 rows × 7 columns</p>\n",
       "</div>"
      ],
      "text/plain": [
       "                                                position  \\\n",
       "0                            Pomocniczy robotnik drogowy   \n",
       "1                            Pomocniczy robotnik drogowy   \n",
       "2                                     Betoniarz-zbrojarz   \n",
       "3                                      Spawacz (nr 0039)   \n",
       "4                                        stróż (nr 0038)   \n",
       "...                                                  ...   \n",
       "17180               monter stolarki okiennej i drzwiowej   \n",
       "17181                   montażysta elewacji wentylowanej   \n",
       "17182  prace interwencyjne-stolarz meblowy/montażysta...   \n",
       "17183                               blacharz samochodowy   \n",
       "17184             Pracownik montażu/serwisant (elektryk)   \n",
       "\n",
       "                                                location  \\\n",
       "0       05-622 Odrzywołek 8a, powiat: grójecki, woj: ...   \n",
       "1       05-622 Odrzywołek 8a, powiat: grójecki, woj: ...   \n",
       "2             Ujście, powiat: pilski, woj: wielkopolskie   \n",
       "3       Bydgoska 2D, 89-200 Zamość, powiat: nakielski...   \n",
       "4       85-001 Bydgoszcz, powiat: m. Bydgoszcz, woj: ...   \n",
       "...                                                  ...   \n",
       "17180         Pszczyna, powiat: pszczyński, woj: śląskie   \n",
       "17181         Pszczyna, powiat: pszczyński, woj: śląskie   \n",
       "17182   Ruda Śląska, powiat: m. Ruda Śląska, woj: ślą...   \n",
       "17183       Studzionka, powiat: pszczyński, woj: śląskie   \n",
       "17184           Ampérova  444, 463 12 Liberec 23, Czechy   \n",
       "\n",
       "                                          contract  \\\n",
       "0                  Umowa o pracę na czas określony   \n",
       "1                  Umowa o pracę na czas określony   \n",
       "2                    Umowa o pracę na okres próbny   \n",
       "3       Umowa zlecenie / Umowa o świadczenie usług   \n",
       "4                  Umowa o pracę na czas określony   \n",
       "...                                            ...   \n",
       "17180              Umowa o pracę na czas określony   \n",
       "17181              Umowa o pracę na czas określony   \n",
       "17182              Umowa o pracę na czas określony   \n",
       "17183              Umowa o pracę na czas określony   \n",
       "17184           Umowa o pracę na czas nieokreślony   \n",
       "\n",
       "                                                employer starting_from  \\\n",
       "0                        POWIATOWY ZARZĄD DRÓG W GRÓJCU.    04.01.2022   \n",
       "1                        POWIATOWY ZARZĄD DRÓG W GRÓJCU.    04.01.2022   \n",
       "2                                      kontakt przez PUP    05.01.2022   \n",
       "3       Warsztat Mechaniczny Maszyn Rolniczych i Ślus...    05.01.2022   \n",
       "4       SOLID SECURITY SPÓŁKA Z OGRANICZONĄ ODPOWIEDZ...    05.01.2022   \n",
       "...                                                  ...           ...   \n",
       "17180                                  kontakt przez PUP    02.12.2016   \n",
       "17181                                  kontakt przez PUP    13.01.2016   \n",
       "17182                                  kontakt przez PUP    05.09.2017   \n",
       "17183                                  kontakt przez PUP    07.01.2016   \n",
       "17184                                    BMTO GROUP a.s.    19.10.2020   \n",
       "\n",
       "                     address  \\\n",
       "0       05-622 Odrzywołek 8a   \n",
       "1       05-622 Odrzywołek 8a   \n",
       "2                     Ujście   \n",
       "3                Bydgoska 2D   \n",
       "4           85-001 Bydgoszcz   \n",
       "...                      ...   \n",
       "17180               Pszczyna   \n",
       "17181               Pszczyna   \n",
       "17182            Ruda Śląska   \n",
       "17183             Studzionka   \n",
       "17184          Ampérova  444   \n",
       "\n",
       "                                         open_street_raw  \n",
       "0      {'place_id': 30857090, 'licence': 'Data © Open...  \n",
       "1      {'place_id': 30857090, 'licence': 'Data © Open...  \n",
       "2      {'place_id': 282527944, 'licence': 'Data © Ope...  \n",
       "3      {'place_id': 321954131, 'licence': 'Data © Ope...  \n",
       "4      {'place_id': 282271219, 'licence': 'Data © Ope...  \n",
       "...                                                  ...  \n",
       "17180  {'place_id': 282381696, 'licence': 'Data © Ope...  \n",
       "17181  {'place_id': 282381696, 'licence': 'Data © Ope...  \n",
       "17182  {'place_id': 282341375, 'licence': 'Data © Ope...  \n",
       "17183  {'place_id': 283020402, 'licence': 'Data © Ope...  \n",
       "17184  {'place_id': 18537089, 'licence': 'Data © Open...  \n",
       "\n",
       "[17185 rows x 7 columns]"
      ]
     },
     "execution_count": 62,
     "metadata": {},
     "output_type": "execute_result"
    }
   ],
   "source": [
    "offers_df.head()"
   ]
  },
  {
   "cell_type": "code",
   "execution_count": 76,
   "metadata": {
    "scrolled": false
   },
   "outputs": [
    {
     "data": {
      "text/html": [
       "<div>\n",
       "<style scoped>\n",
       "    .dataframe tbody tr th:only-of-type {\n",
       "        vertical-align: middle;\n",
       "    }\n",
       "\n",
       "    .dataframe tbody tr th {\n",
       "        vertical-align: top;\n",
       "    }\n",
       "\n",
       "    .dataframe thead th {\n",
       "        text-align: right;\n",
       "    }\n",
       "</style>\n",
       "<table border=\"1\" class=\"dataframe\">\n",
       "  <thead>\n",
       "    <tr style=\"text-align: right;\">\n",
       "      <th></th>\n",
       "      <th>url</th>\n",
       "      <th>work_modes</th>\n",
       "      <th>remote</th>\n",
       "      <th>employment_type</th>\n",
       "      <th>schedule</th>\n",
       "      <th>contract</th>\n",
       "      <th>locations</th>\n",
       "      <th>location_url</th>\n",
       "      <th>duties</th>\n",
       "      <th>requirements</th>\n",
       "      <th>offered</th>\n",
       "      <th>about_us</th>\n",
       "      <th>salary</th>\n",
       "      <th>benefits</th>\n",
       "      <th>inferred_location</th>\n",
       "    </tr>\n",
       "  </thead>\n",
       "  <tbody>\n",
       "    <tr>\n",
       "      <th>0</th>\n",
       "      <td>https://www.pracuj.pl/praca/inventory-manager-...</td>\n",
       "      <td>NaN</td>\n",
       "      <td>remote recruitment</td>\n",
       "      <td>team manager</td>\n",
       "      <td>full-time</td>\n",
       "      <td>contract of employment</td>\n",
       "      <td>['Kraków', 'Kraków, Lesser Poland']</td>\n",
       "      <td>NaN</td>\n",
       "      <td>['Analyze data to provide visibility of missed...</td>\n",
       "      <td>['University degree in a technical or analytic...</td>\n",
       "      <td>['Chance to become a part of dynamically growi...</td>\n",
       "      <td>zooplus Polska Sp. z o.o.\\nNumber 1 in Europe!...</td>\n",
       "      <td>NaN</td>\n",
       "      <td>NaN</td>\n",
       "      <td>{'x': 19.9420309, 'y': 50.0636007, 'addr:stree...</td>\n",
       "    </tr>\n",
       "    <tr>\n",
       "      <th>1</th>\n",
       "      <td>https://www.pracuj.pl/praca/financial-analyst-...</td>\n",
       "      <td>NaN</td>\n",
       "      <td>remote recruitment</td>\n",
       "      <td>specialist (mid / regular), senior specialist ...</td>\n",
       "      <td>full-time</td>\n",
       "      <td>contract of employment</td>\n",
       "      <td>['Warszawa', 'Warszawa, Masovian']</td>\n",
       "      <td>NaN</td>\n",
       "      <td>['Support in planning (business plan and rolli...</td>\n",
       "      <td>['University degree with Controlling, Finance,...</td>\n",
       "      <td>['Exciting work in an international environmen...</td>\n",
       "      <td>Technicolor Polska Sp. z o.o.\\nOur Strength is...</td>\n",
       "      <td>NaN</td>\n",
       "      <td>NaN</td>\n",
       "      <td>{'x': 21.071432235636493, 'y': 52.2337172, 'ad...</td>\n",
       "    </tr>\n",
       "    <tr>\n",
       "      <th>2</th>\n",
       "      <td>https://www.pracuj.pl/praca/gl-accountant-wars...</td>\n",
       "      <td>NaN</td>\n",
       "      <td>remote recruitment</td>\n",
       "      <td>specialist (mid / regular), senior specialist ...</td>\n",
       "      <td>full-time</td>\n",
       "      <td>contract of employment</td>\n",
       "      <td>['Warszawa', 'Warszawa, Masovian']</td>\n",
       "      <td>NaN</td>\n",
       "      <td>['Performing general accounting and reporting ...</td>\n",
       "      <td>['Professional experience in the area of accou...</td>\n",
       "      <td>['Exciting work in an international environmen...</td>\n",
       "      <td>Technicolor Polska Sp. z o.o.\\nOur Strength is...</td>\n",
       "      <td>NaN</td>\n",
       "      <td>NaN</td>\n",
       "      <td>{'x': 21.071432235636493, 'y': 52.2337172, 'ad...</td>\n",
       "    </tr>\n",
       "    <tr>\n",
       "      <th>3</th>\n",
       "      <td>https://www.pracuj.pl/praca/monter-urzadzen-el...</td>\n",
       "      <td>NaN</td>\n",
       "      <td>rekrutacja zdalna</td>\n",
       "      <td>specjalista (mid / regular)</td>\n",
       "      <td>pełny etat</td>\n",
       "      <td>umowa o pracę</td>\n",
       "      <td>['aleja Grunwaldzka 103a, Gdańsk', 'Gdańsk, po...</td>\n",
       "      <td>https://www.google.pl/maps/search/54.379585266...</td>\n",
       "      <td>['Wykonywanie prac elektrycznych zgodnie z otr...</td>\n",
       "      <td>['Wykształcenie techniczne - średnie lub zawod...</td>\n",
       "      <td>[]</td>\n",
       "      <td>MACGREGOR POLAND SP Z O O\\nMacGregor shapes th...</td>\n",
       "      <td>NaN</td>\n",
       "      <td>NaN</td>\n",
       "      <td>{'x': '18.605209350585938', 'y': '54.379585266...</td>\n",
       "    </tr>\n",
       "    <tr>\n",
       "      <th>4</th>\n",
       "      <td>https://www.pracuj.pl/praca/operator-maszyn-i-...</td>\n",
       "      <td>praca stacjonarna</td>\n",
       "      <td>NaN</td>\n",
       "      <td>pracownik fizyczny</td>\n",
       "      <td>pełny etat</td>\n",
       "      <td>umowa o pracę</td>\n",
       "      <td>['Trzciniec (pow. bydgoski)', 'Trzciniec (pow....</td>\n",
       "      <td>NaN</td>\n",
       "      <td>['Bieżąca obsługa maszyn i urządzeń sterowanyc...</td>\n",
       "      <td>['Wykształcenie min. zawodowe techniczne,', 'D...</td>\n",
       "      <td>['Pracę w stabilnej firmie o ugruntowanej pozy...</td>\n",
       "      <td>Xella Polska Sp. z o.o.\\nXella Polska jest lid...</td>\n",
       "      <td>NaN</td>\n",
       "      <td>NaN</td>\n",
       "      <td>{'x': 17.9480419, 'y': 53.0858024, 'addr:stree...</td>\n",
       "    </tr>\n",
       "    <tr>\n",
       "      <th>...</th>\n",
       "      <td>...</td>\n",
       "      <td>...</td>\n",
       "      <td>...</td>\n",
       "      <td>...</td>\n",
       "      <td>...</td>\n",
       "      <td>...</td>\n",
       "      <td>...</td>\n",
       "      <td>...</td>\n",
       "      <td>...</td>\n",
       "      <td>...</td>\n",
       "      <td>...</td>\n",
       "      <td>...</td>\n",
       "      <td>...</td>\n",
       "      <td>...</td>\n",
       "      <td>...</td>\n",
       "    </tr>\n",
       "    <tr>\n",
       "      <th>39441</th>\n",
       "      <td>https://www.pracuj.pl/praca/kierowca-miedzynar...</td>\n",
       "      <td>NaN</td>\n",
       "      <td>NaN</td>\n",
       "      <td>pracownik fizyczny</td>\n",
       "      <td>pełny etat</td>\n",
       "      <td>umowa o pracę</td>\n",
       "      <td>['Tychy', 'Tychy, śląskie']</td>\n",
       "      <td>NaN</td>\n",
       "      <td>['KIEROWCA C+E MIĘDZYNARODÓWKA', 'DOKUPILIŚMY ...</td>\n",
       "      <td>['minimum pół roku doświadczenia w pracy jako ...</td>\n",
       "      <td>['legalne zatrudnienie w oparciu o umowę o pra...</td>\n",
       "      <td>NaN</td>\n",
       "      <td>8 000‐8 500 zł brutto / mies.</td>\n",
       "      <td>8 000‐8 500 zł brutto / mies.</td>\n",
       "      <td>{'x': 18.9641781, 'y': 50.1357681, 'addr:stree...</td>\n",
       "    </tr>\n",
       "    <tr>\n",
       "      <th>39442</th>\n",
       "      <td>https://www.pracuj.pl/praca/monter-reda,oferta...</td>\n",
       "      <td>praca stacjonarna</td>\n",
       "      <td>NaN</td>\n",
       "      <td>pracownik fizyczny</td>\n",
       "      <td>pełny etat</td>\n",
       "      <td>umowa o pracę</td>\n",
       "      <td>['Wejherowska 108, Reda', 'Reda, pomorskie']</td>\n",
       "      <td>https://www.google.pl/maps/search/54.603878021...</td>\n",
       "      <td>['diagnozowanie oraz naprawa urządzeń klimatyz...</td>\n",
       "      <td>['doświadczenie na podobnym stanowisku (3 lat)...</td>\n",
       "      <td>['pracę w dynamicznie rozwijającej się firmie,...</td>\n",
       "      <td>FIRMA ACTIVE CLIMA\\nSpecjalizujemy się w nowoc...</td>\n",
       "      <td>30,00‐40,00 zł brutto / godz.</td>\n",
       "      <td>30,00‐40,00 zł brutto / godz.</td>\n",
       "      <td>{'x': '18.30394172668457', 'y': '54.6038780212...</td>\n",
       "    </tr>\n",
       "    <tr>\n",
       "      <th>39443</th>\n",
       "      <td>https://www.pracuj.pl/praca/doradca-ds-nieruch...</td>\n",
       "      <td>praca hybrydowa</td>\n",
       "      <td>NaN</td>\n",
       "      <td>specjalista (mid / regular), starszy specjalis...</td>\n",
       "      <td>pełny etat</td>\n",
       "      <td>umowa zlecenie, kontrakt b2b</td>\n",
       "      <td>['Marszałkowska 87, Warszawa', 'Warszawa, mazo...</td>\n",
       "      <td>https://www.google.pl/maps/search/52.227344512...</td>\n",
       "      <td>['Praca w otwartym, pozytywnym zespole.', 'Ela...</td>\n",
       "      <td>['Kogo szukamy?', 'osób energicznych i otwarty...</td>\n",
       "      <td>['pracę w elastycznych godzinach, możliwych do...</td>\n",
       "      <td>Firma działająca na rynku nieruchomości poszuk...</td>\n",
       "      <td>UMOWA ZLECENIE\\n5 000‐20 000 zł brutto / mies....</td>\n",
       "      <td>UMOWA ZLECENIE\\n5 000‐20 000 zł brutto / mies....</td>\n",
       "      <td>{'x': '21.012590408325195', 'y': '52.227344512...</td>\n",
       "    </tr>\n",
       "    <tr>\n",
       "      <th>39444</th>\n",
       "      <td>https://www.pracuj.pl/praca/kurier-bronisze-po...</td>\n",
       "      <td>NaN</td>\n",
       "      <td>NaN</td>\n",
       "      <td>pracownik fizyczny</td>\n",
       "      <td>pełny etat</td>\n",
       "      <td>umowa o pracę, umowa zlecenie</td>\n",
       "      <td>['Świerkowa 1A, Bronisze (pow. warszawski zach...</td>\n",
       "      <td>https://www.google.pl/maps/search/52.217609405...</td>\n",
       "      <td>['Doręczanie i odbiór przesyłek na wyznaczonym...</td>\n",
       "      <td>['Prawo jazdy kat. B', 'Doświadczenie w prowad...</td>\n",
       "      <td>['Stabilne zatrudnienie nawet podczas kolejneg...</td>\n",
       "      <td>Zatrudnię Kuriera do współpracy w firmie INPOS...</td>\n",
       "      <td>5 500‐7 000 zł brutto / mies.</td>\n",
       "      <td>5 500‐7 000 zł brutto / mies.</td>\n",
       "      <td>{'x': '20.83735466003418', 'y': '52.2176094055...</td>\n",
       "    </tr>\n",
       "    <tr>\n",
       "      <th>39445</th>\n",
       "      <td>https://www.pracuj.pl/praca/kasjer-sprzedawca-...</td>\n",
       "      <td>praca stacjonarna</td>\n",
       "      <td>NaN</td>\n",
       "      <td>pracownik fizyczny</td>\n",
       "      <td>pełny etat</td>\n",
       "      <td>umowa zlecenie</td>\n",
       "      <td>['Świdnicka 2a, Marcinowice (pow. świdnicki)',...</td>\n",
       "      <td>https://www.google.pl/maps/search/50.878643035...</td>\n",
       "      <td>['Obsługa klienta', 'Obsługa kasy fiskalnej', ...</td>\n",
       "      <td>['Dyspozycyjność', 'Książeczka sanepid lub chę...</td>\n",
       "      <td>['Umowa zlecenie', 'Praca w zgranym zespole', ...</td>\n",
       "      <td>Praca w sklepie Żabka w zgranym zespole . Posz...</td>\n",
       "      <td>2 500‐3 300 zł brutto / mies.</td>\n",
       "      <td>2 500‐3 300 zł brutto / mies.</td>\n",
       "      <td>{'x': '16.58064079284668', 'y': '50.8786430358...</td>\n",
       "    </tr>\n",
       "  </tbody>\n",
       "</table>\n",
       "<p>39446 rows × 15 columns</p>\n",
       "</div>"
      ],
      "text/plain": [
       "                                                     url         work_modes  \\\n",
       "0      https://www.pracuj.pl/praca/inventory-manager-...                NaN   \n",
       "1      https://www.pracuj.pl/praca/financial-analyst-...                NaN   \n",
       "2      https://www.pracuj.pl/praca/gl-accountant-wars...                NaN   \n",
       "3      https://www.pracuj.pl/praca/monter-urzadzen-el...                NaN   \n",
       "4      https://www.pracuj.pl/praca/operator-maszyn-i-...  praca stacjonarna   \n",
       "...                                                  ...                ...   \n",
       "39441  https://www.pracuj.pl/praca/kierowca-miedzynar...                NaN   \n",
       "39442  https://www.pracuj.pl/praca/monter-reda,oferta...  praca stacjonarna   \n",
       "39443  https://www.pracuj.pl/praca/doradca-ds-nieruch...    praca hybrydowa   \n",
       "39444  https://www.pracuj.pl/praca/kurier-bronisze-po...                NaN   \n",
       "39445  https://www.pracuj.pl/praca/kasjer-sprzedawca-...  praca stacjonarna   \n",
       "\n",
       "                   remote                                    employment_type  \\\n",
       "0      remote recruitment                                       team manager   \n",
       "1      remote recruitment  specialist (mid / regular), senior specialist ...   \n",
       "2      remote recruitment  specialist (mid / regular), senior specialist ...   \n",
       "3       rekrutacja zdalna                        specjalista (mid / regular)   \n",
       "4                     NaN                                 pracownik fizyczny   \n",
       "...                   ...                                                ...   \n",
       "39441                 NaN                                 pracownik fizyczny   \n",
       "39442                 NaN                                 pracownik fizyczny   \n",
       "39443                 NaN  specjalista (mid / regular), starszy specjalis...   \n",
       "39444                 NaN                                 pracownik fizyczny   \n",
       "39445                 NaN                                 pracownik fizyczny   \n",
       "\n",
       "         schedule                       contract  \\\n",
       "0       full-time         contract of employment   \n",
       "1       full-time         contract of employment   \n",
       "2       full-time         contract of employment   \n",
       "3      pełny etat                  umowa o pracę   \n",
       "4      pełny etat                  umowa o pracę   \n",
       "...           ...                            ...   \n",
       "39441  pełny etat                  umowa o pracę   \n",
       "39442  pełny etat                  umowa o pracę   \n",
       "39443  pełny etat   umowa zlecenie, kontrakt b2b   \n",
       "39444  pełny etat  umowa o pracę, umowa zlecenie   \n",
       "39445  pełny etat                 umowa zlecenie   \n",
       "\n",
       "                                               locations  \\\n",
       "0                    ['Kraków', 'Kraków, Lesser Poland']   \n",
       "1                     ['Warszawa', 'Warszawa, Masovian']   \n",
       "2                     ['Warszawa', 'Warszawa, Masovian']   \n",
       "3      ['aleja Grunwaldzka 103a, Gdańsk', 'Gdańsk, po...   \n",
       "4      ['Trzciniec (pow. bydgoski)', 'Trzciniec (pow....   \n",
       "...                                                  ...   \n",
       "39441                        ['Tychy', 'Tychy, śląskie']   \n",
       "39442       ['Wejherowska 108, Reda', 'Reda, pomorskie']   \n",
       "39443  ['Marszałkowska 87, Warszawa', 'Warszawa, mazo...   \n",
       "39444  ['Świerkowa 1A, Bronisze (pow. warszawski zach...   \n",
       "39445  ['Świdnicka 2a, Marcinowice (pow. świdnicki)',...   \n",
       "\n",
       "                                            location_url  \\\n",
       "0                                                    NaN   \n",
       "1                                                    NaN   \n",
       "2                                                    NaN   \n",
       "3      https://www.google.pl/maps/search/54.379585266...   \n",
       "4                                                    NaN   \n",
       "...                                                  ...   \n",
       "39441                                                NaN   \n",
       "39442  https://www.google.pl/maps/search/54.603878021...   \n",
       "39443  https://www.google.pl/maps/search/52.227344512...   \n",
       "39444  https://www.google.pl/maps/search/52.217609405...   \n",
       "39445  https://www.google.pl/maps/search/50.878643035...   \n",
       "\n",
       "                                                  duties  \\\n",
       "0      ['Analyze data to provide visibility of missed...   \n",
       "1      ['Support in planning (business plan and rolli...   \n",
       "2      ['Performing general accounting and reporting ...   \n",
       "3      ['Wykonywanie prac elektrycznych zgodnie z otr...   \n",
       "4      ['Bieżąca obsługa maszyn i urządzeń sterowanyc...   \n",
       "...                                                  ...   \n",
       "39441  ['KIEROWCA C+E MIĘDZYNARODÓWKA', 'DOKUPILIŚMY ...   \n",
       "39442  ['diagnozowanie oraz naprawa urządzeń klimatyz...   \n",
       "39443  ['Praca w otwartym, pozytywnym zespole.', 'Ela...   \n",
       "39444  ['Doręczanie i odbiór przesyłek na wyznaczonym...   \n",
       "39445  ['Obsługa klienta', 'Obsługa kasy fiskalnej', ...   \n",
       "\n",
       "                                            requirements  \\\n",
       "0      ['University degree in a technical or analytic...   \n",
       "1      ['University degree with Controlling, Finance,...   \n",
       "2      ['Professional experience in the area of accou...   \n",
       "3      ['Wykształcenie techniczne - średnie lub zawod...   \n",
       "4      ['Wykształcenie min. zawodowe techniczne,', 'D...   \n",
       "...                                                  ...   \n",
       "39441  ['minimum pół roku doświadczenia w pracy jako ...   \n",
       "39442  ['doświadczenie na podobnym stanowisku (3 lat)...   \n",
       "39443  ['Kogo szukamy?', 'osób energicznych i otwarty...   \n",
       "39444  ['Prawo jazdy kat. B', 'Doświadczenie w prowad...   \n",
       "39445  ['Dyspozycyjność', 'Książeczka sanepid lub chę...   \n",
       "\n",
       "                                                 offered  \\\n",
       "0      ['Chance to become a part of dynamically growi...   \n",
       "1      ['Exciting work in an international environmen...   \n",
       "2      ['Exciting work in an international environmen...   \n",
       "3                                                     []   \n",
       "4      ['Pracę w stabilnej firmie o ugruntowanej pozy...   \n",
       "...                                                  ...   \n",
       "39441  ['legalne zatrudnienie w oparciu o umowę o pra...   \n",
       "39442  ['pracę w dynamicznie rozwijającej się firmie,...   \n",
       "39443  ['pracę w elastycznych godzinach, możliwych do...   \n",
       "39444  ['Stabilne zatrudnienie nawet podczas kolejneg...   \n",
       "39445  ['Umowa zlecenie', 'Praca w zgranym zespole', ...   \n",
       "\n",
       "                                                about_us  \\\n",
       "0      zooplus Polska Sp. z o.o.\\nNumber 1 in Europe!...   \n",
       "1      Technicolor Polska Sp. z o.o.\\nOur Strength is...   \n",
       "2      Technicolor Polska Sp. z o.o.\\nOur Strength is...   \n",
       "3      MACGREGOR POLAND SP Z O O\\nMacGregor shapes th...   \n",
       "4      Xella Polska Sp. z o.o.\\nXella Polska jest lid...   \n",
       "...                                                  ...   \n",
       "39441                                                NaN   \n",
       "39442  FIRMA ACTIVE CLIMA\\nSpecjalizujemy się w nowoc...   \n",
       "39443  Firma działająca na rynku nieruchomości poszuk...   \n",
       "39444  Zatrudnię Kuriera do współpracy w firmie INPOS...   \n",
       "39445  Praca w sklepie Żabka w zgranym zespole . Posz...   \n",
       "\n",
       "                                                  salary  \\\n",
       "0                                                    NaN   \n",
       "1                                                    NaN   \n",
       "2                                                    NaN   \n",
       "3                                                    NaN   \n",
       "4                                                    NaN   \n",
       "...                                                  ...   \n",
       "39441                      8 000‐8 500 zł brutto / mies.   \n",
       "39442                      30,00‐40,00 zł brutto / godz.   \n",
       "39443  UMOWA ZLECENIE\\n5 000‐20 000 zł brutto / mies....   \n",
       "39444                      5 500‐7 000 zł brutto / mies.   \n",
       "39445                      2 500‐3 300 zł brutto / mies.   \n",
       "\n",
       "                                                benefits  \\\n",
       "0                                                    NaN   \n",
       "1                                                    NaN   \n",
       "2                                                    NaN   \n",
       "3                                                    NaN   \n",
       "4                                                    NaN   \n",
       "...                                                  ...   \n",
       "39441                      8 000‐8 500 zł brutto / mies.   \n",
       "39442                      30,00‐40,00 zł brutto / godz.   \n",
       "39443  UMOWA ZLECENIE\\n5 000‐20 000 zł brutto / mies....   \n",
       "39444                      5 500‐7 000 zł brutto / mies.   \n",
       "39445                      2 500‐3 300 zł brutto / mies.   \n",
       "\n",
       "                                       inferred_location  \n",
       "0      {'x': 19.9420309, 'y': 50.0636007, 'addr:stree...  \n",
       "1      {'x': 21.071432235636493, 'y': 52.2337172, 'ad...  \n",
       "2      {'x': 21.071432235636493, 'y': 52.2337172, 'ad...  \n",
       "3      {'x': '18.605209350585938', 'y': '54.379585266...  \n",
       "4      {'x': 17.9480419, 'y': 53.0858024, 'addr:stree...  \n",
       "...                                                  ...  \n",
       "39441  {'x': 18.9641781, 'y': 50.1357681, 'addr:stree...  \n",
       "39442  {'x': '18.30394172668457', 'y': '54.6038780212...  \n",
       "39443  {'x': '21.012590408325195', 'y': '52.227344512...  \n",
       "39444  {'x': '20.83735466003418', 'y': '52.2176094055...  \n",
       "39445  {'x': '16.58064079284668', 'y': '50.8786430358...  \n",
       "\n",
       "[39446 rows x 15 columns]"
      ]
     },
     "execution_count": 76,
     "metadata": {},
     "output_type": "execute_result"
    }
   ],
   "source": [
    "pracuj_df.drop_duplicates()"
   ]
  },
  {
   "cell_type": "markdown",
   "metadata": {},
   "source": [
    "### Praca w polsce - markery"
   ]
  },
  {
   "cell_type": "code",
   "execution_count": 14,
   "metadata": {},
   "outputs": [],
   "source": [
    "offers_df_country_markers = offers_df.filter(['open_street_raw'], axis=1)"
   ]
  },
  {
   "cell_type": "code",
   "execution_count": 15,
   "metadata": {},
   "outputs": [],
   "source": [
    "offers_df_country_markers['open_street_raw'] = offers_df_country_markers.apply(lambda row: ast.literal_eval(row['open_street_raw']), axis=1)"
   ]
  },
  {
   "cell_type": "code",
   "execution_count": 16,
   "metadata": {},
   "outputs": [],
   "source": [
    "offers_df_country_markers['marker_coords'] = \\\n",
    "    offers_df_country_markers.apply(lambda row: [float(row['open_street_raw']['lat']), float(row['open_street_raw']['lon'])], axis=1)"
   ]
  },
  {
   "cell_type": "code",
   "execution_count": 88,
   "metadata": {},
   "outputs": [],
   "source": [
    "pracuj_df_country_markers = pracuj_df.filter(['inferred_location'], axis=1)"
   ]
  },
  {
   "cell_type": "code",
   "execution_count": 89,
   "metadata": {},
   "outputs": [],
   "source": [
    "pracuj_df_country_markers = pracuj_df_country_markers.dropna().copy()"
   ]
  },
  {
   "cell_type": "code",
   "execution_count": 90,
   "metadata": {},
   "outputs": [],
   "source": [
    "pracuj_df_country_markers['inferred_location'] = pracuj_df_country_markers.apply(lambda row: ast.literal_eval(row['inferred_location']), axis=1)"
   ]
  },
  {
   "cell_type": "code",
   "execution_count": 94,
   "metadata": {},
   "outputs": [],
   "source": [
    "pracuj_df_country_markers['marker_coords'] = \\\n",
    "    pracuj_df_country_markers.apply(lambda row: [float(row['inferred_location']['y']), float(row['inferred_location']['x'])], axis=1)"
   ]
  },
  {
   "cell_type": "code",
   "execution_count": 98,
   "metadata": {},
   "outputs": [],
   "source": [
    "df_country_markers = pd.concat([offers_df_country_markers, pracuj_df_country_markers], ignore_index=True)"
   ]
  },
  {
   "cell_type": "code",
   "execution_count": 22,
   "metadata": {},
   "outputs": [],
   "source": [
    "START_LAT = 51.8512195\n",
    "START_LON = 20.8417665\n",
    "START_ZOOM = 6"
   ]
  },
  {
   "cell_type": "code",
   "execution_count": 99,
   "metadata": {},
   "outputs": [],
   "source": [
    "map_country_markers = folium.Map(location=[START_LAT, START_LON], zoom_start=START_ZOOM)"
   ]
  },
  {
   "cell_type": "code",
   "execution_count": 100,
   "metadata": {},
   "outputs": [],
   "source": [
    "for index, row in df_country_markers.iterrows():\n",
    "    folium.CircleMarker(\n",
    "        location=row['marker_coords'],\n",
    "        tooltip=row['marker_coords'],\n",
    "        radius=2,\n",
    "#         weight=1,\n",
    "        color=\"crimson\",\n",
    "        fill=False,\n",
    "    ).add_to(map_country_markers)"
   ]
  },
  {
   "cell_type": "code",
   "execution_count": 101,
   "metadata": {},
   "outputs": [],
   "source": [
    "map_country_markers.save(\"map_country_markers.html\")"
   ]
  },
  {
   "cell_type": "markdown",
   "metadata": {},
   "source": [
    "### Dalsza obróbka datasetu z markerami"
   ]
  },
  {
   "cell_type": "code",
   "execution_count": 102,
   "metadata": {},
   "outputs": [],
   "source": [
    "df_markers = df_country_markers.copy()"
   ]
  },
  {
   "cell_type": "code",
   "execution_count": 110,
   "metadata": {},
   "outputs": [],
   "source": [
    "geolocator = Nominatim(user_agent=\"http\")\n",
    "df_markers['geopy_address'] = \\\n",
    "    df_markers.apply(lambda row: geolocator.reverse(row['marker_coords']).address.split(', '), axis=1)"
   ]
  },
  {
   "cell_type": "code",
   "execution_count": 24,
   "metadata": {},
   "outputs": [],
   "source": [
    "# df_wroclaw_markers.to_csv('markers_with_adressess.csv', index=True)\n",
    "df_markers = pd.read_csv('markers_with_adressess.csv')"
   ]
  },
  {
   "cell_type": "code",
   "execution_count": 25,
   "metadata": {},
   "outputs": [],
   "source": [
    "df_markers.drop_duplicates(subset=['open_street_raw', 'marker_coords', 'inferred_location', 'geopy_address'], inplace=True)"
   ]
  },
  {
   "cell_type": "code",
   "execution_count": 26,
   "metadata": {},
   "outputs": [],
   "source": [
    "df_markers['geopy_address'] = df_markers.apply(lambda row: ast.literal_eval(row['geopy_address']), axis=1)\n",
    "df_markers['marker_coords'] = df_markers.apply(lambda row: ast.literal_eval(row['marker_coords']), axis=1)"
   ]
  },
  {
   "cell_type": "code",
   "execution_count": 27,
   "metadata": {},
   "outputs": [],
   "source": [
    "df_markers['geopy_address_len'] = df_markers.apply(lambda row: len(row['geopy_address']), axis=1)"
   ]
  },
  {
   "cell_type": "code",
   "execution_count": 28,
   "metadata": {},
   "outputs": [],
   "source": [
    "df_markers.drop(df_markers[df_markers['geopy_address_len'] <= 4].index, inplace=True)\n",
    "df_markers.drop(['geopy_address_len'], inplace = True, axis=1)\n",
    "df_markers.drop(['Unnamed: 0'], inplace = True, axis=1)"
   ]
  },
  {
   "cell_type": "code",
   "execution_count": 29,
   "metadata": {},
   "outputs": [],
   "source": [
    "df_markers['country'] = df_markers.apply(lambda row: row['geopy_address'][-1], axis=1)\n",
    "df_markers.drop(df_markers[df_markers['country'] != 'Polska'].index, inplace=True)\n",
    "df_markers.drop(['country'], inplace = True, axis=1)"
   ]
  },
  {
   "cell_type": "code",
   "execution_count": 30,
   "metadata": {},
   "outputs": [],
   "source": [
    "df_markers['voivodeship'] = df_markers.apply(lambda row: row['geopy_address'][-3], axis=1)"
   ]
  },
  {
   "cell_type": "code",
   "execution_count": 31,
   "metadata": {},
   "outputs": [],
   "source": [
    "df_markers['state'] = df_markers.apply(lambda row: row['geopy_address'][-4], axis=1)"
   ]
  },
  {
   "cell_type": "code",
   "execution_count": 32,
   "metadata": {},
   "outputs": [],
   "source": [
    "df_markers['county'] = df_markers.apply(lambda row: row['geopy_address'][-5], axis=1)"
   ]
  },
  {
   "cell_type": "markdown",
   "metadata": {},
   "source": [
    "### Praca we wrocławiu - markery"
   ]
  },
  {
   "cell_type": "code",
   "execution_count": 329,
   "metadata": {},
   "outputs": [],
   "source": [
    "df_wroclaw_markers = df_markers[df_markers['state'] == 'Wrocław'].copy()"
   ]
  },
  {
   "cell_type": "code",
   "execution_count": 330,
   "metadata": {},
   "outputs": [],
   "source": [
    "df_wroclaw_markers['county'] = df_wroclaw_markers.apply(lambda row: row['county'].replace(\"Osiedle \", \"\", 1), axis=1)"
   ]
  },
  {
   "cell_type": "code",
   "execution_count": 331,
   "metadata": {},
   "outputs": [],
   "source": [
    "df_wroclaw_markers['count'] = df_wroclaw_markers.apply(lambda row: 1, axis=1)"
   ]
  },
  {
   "cell_type": "code",
   "execution_count": 332,
   "metadata": {},
   "outputs": [],
   "source": [
    "df_wroclaw_markers_count = df_wroclaw_markers.groupby(['county'])['count'].sum().reset_index()"
   ]
  },
  {
   "cell_type": "code",
   "execution_count": 333,
   "metadata": {},
   "outputs": [],
   "source": [
    "df_wroclaw_markers_count['county'] = df_wroclaw_markers_count.apply(lambda row: row['county'].replace(\"-\", \" - \"), axis=1)"
   ]
  },
  {
   "cell_type": "code",
   "execution_count": 338,
   "metadata": {},
   "outputs": [],
   "source": [
    "df_wroclaw_markers_count.drop(df_wroclaw_markers_count[df_wroclaw_markers_count['county'] == 'Stare Miasto'].index, inplace=True)"
   ]
  },
  {
   "cell_type": "code",
   "execution_count": 339,
   "metadata": {},
   "outputs": [],
   "source": [
    "df_wroclaw_markers_count['count_norm'] = \\\n",
    "    (df_wroclaw_markers_count['count']-df_wroclaw_markers_count['count'].min())/(df_wroclaw_markers_count['count'].max()-df_wroclaw_markers_count['count'].min())"
   ]
  },
  {
   "cell_type": "code",
   "execution_count": 343,
   "metadata": {},
   "outputs": [],
   "source": [
    "WROC_START_LAT = 51.13694038154205 \n",
    "WROC_START_LON = 17.04576517482033\n",
    "WROC_START_ZOOM = 8\n",
    "\n",
    "wroclaw_geo = geopandas.read_file('D:\\Studia\\Semestr IX\\Przetwarzanie Danych Przestrzennych\\geo_maps\\miasta\\wroclaw-max.geojson')\n",
    "\n",
    "wroclaw_map = folium.Map(location=[WROC_START_LAT, WROC_START_LON], zoom_start=WROC_START_ZOOM)\n",
    "\n",
    "folium.Choropleth(\n",
    "    geo_data=wroclaw_geo,\n",
    "    name=\"choropleth\",\n",
    "    data=df_wroclaw_markers_count,\n",
    "    columns=[\"county\", \"count_norm\"],\n",
    "    key_on=\"feature.properties.osiedle\",\n",
    "    fill_color=\"YlGn\",\n",
    "    fill_opacity=0.7,\n",
    "    line_opacity=0.2,\n",
    "    legend_name=\"Jobs count\",\n",
    ").add_to(wroclaw_map)\n",
    "\n",
    "folium.LayerControl().add_to(wroclaw_map)\n",
    "\n",
    "for index, row in df_wroclaw_markers.iterrows():\n",
    "    folium.CircleMarker(\n",
    "        location=row['marker_coords'],\n",
    "        tooltip=row['marker_coords'],\n",
    "        radius=2,\n",
    "#         weight=1,\n",
    "        color=\"crimson\",\n",
    "        fill=False,\n",
    "    ).add_to(wroclaw_map)\n"
   ]
  },
  {
   "cell_type": "code",
   "execution_count": 391,
   "metadata": {},
   "outputs": [],
   "source": [
    "wroclaw_map.save(\"map_wroclaw_markers.html\")"
   ]
  },
  {
   "cell_type": "markdown",
   "metadata": {},
   "source": [
    "### Liczba ogłoszeń o pracę - województwa"
   ]
  },
  {
   "cell_type": "code",
   "execution_count": 379,
   "metadata": {},
   "outputs": [],
   "source": [
    "df_voivodeship_markers = df_markers.copy()"
   ]
  },
  {
   "cell_type": "code",
   "execution_count": 380,
   "metadata": {},
   "outputs": [],
   "source": [
    "df_voivodeship_markers.drop(df_voivodeship_markers[~df_voivodeship_markers['voivodeship'].str.contains('województwo')].index, inplace=True)"
   ]
  },
  {
   "cell_type": "code",
   "execution_count": 381,
   "metadata": {},
   "outputs": [],
   "source": [
    "df_voivodeship_markers['voivodeship'] = df_voivodeship_markers.apply(lambda row: row['voivodeship'].replace(\"województwo \", \"\", 1), axis=1)"
   ]
  },
  {
   "cell_type": "code",
   "execution_count": 382,
   "metadata": {},
   "outputs": [],
   "source": [
    "df_voivodeship_markers['count'] = df_voivodeship_markers.apply(lambda row: 1, axis=1)"
   ]
  },
  {
   "cell_type": "code",
   "execution_count": 386,
   "metadata": {},
   "outputs": [],
   "source": [
    "df_voivodeship_markers_count = df_voivodeship_markers.groupby(['voivodeship'])['count'].sum().reset_index()"
   ]
  },
  {
   "cell_type": "code",
   "execution_count": 394,
   "metadata": {},
   "outputs": [],
   "source": [
    "voivodeship_geo = geopandas.read_file('D:\\Studia\\Semestr IX\\Przetwarzanie Danych Przestrzennych\\geo_maps\\wojewodztwa\\wojewodztwa-max.geojson')\n",
    "\n",
    "voivodeship_map = folium.Map(location=[START_LAT, START_LON], zoom_start=START_ZOOM)\n",
    "\n",
    "folium.Choropleth(\n",
    "    geo_data=voivodeship_geo,\n",
    "    name=\"choropleth\",\n",
    "    data=df_voivodeship_markers_count,\n",
    "    columns=[\"voivodeship\", \"count\"],\n",
    "    key_on=\"feature.properties.nazwa\",\n",
    "    fill_color=\"YlGn\",\n",
    "    fill_opacity=0.7,\n",
    "    line_opacity=0.2,\n",
    "    legend_name=\"Jobs count\",\n",
    ").add_to(voivodeship_map)\n",
    "\n",
    "folium.LayerControl().add_to(voivodeship_map)\n",
    "\n",
    "for index, row in df_voivodeship_markers.iterrows():\n",
    "    folium.CircleMarker(\n",
    "        location=row['marker_coords'],\n",
    "        tooltip=row['marker_coords'],\n",
    "        radius=0.5,\n",
    "#         weight=1,\n",
    "        color=\"crimson\",\n",
    "        fill=False,\n",
    "    ).add_to(voivodeship_map)"
   ]
  },
  {
   "cell_type": "code",
   "execution_count": 395,
   "metadata": {},
   "outputs": [],
   "source": [
    "voivodeship_map.save(\"map_voivodeship_markers.html\")"
   ]
  },
  {
   "cell_type": "markdown",
   "metadata": {},
   "source": [
    "### Liczba ogłoszeń o pracę - powiaty"
   ]
  },
  {
   "cell_type": "code",
   "execution_count": 492,
   "metadata": {},
   "outputs": [],
   "source": [
    "df_state_markers = df_markers.copy()"
   ]
  },
  {
   "cell_type": "code",
   "execution_count": 493,
   "metadata": {},
   "outputs": [],
   "source": [
    "df_state_markers.drop(df_state_markers[~df_state_markers['voivodeship'].str.contains('województwo')].index, inplace=True)"
   ]
  },
  {
   "cell_type": "code",
   "execution_count": 451,
   "metadata": {},
   "outputs": [],
   "source": [
    "state_geo = geopandas.read_file('D:\\Studia\\Semestr IX\\Przetwarzanie Danych Przestrzennych\\geo_maps\\powiaty\\powiaty-max.geojson')"
   ]
  },
  {
   "cell_type": "code",
   "execution_count": 494,
   "metadata": {},
   "outputs": [],
   "source": [
    "def get_state_name(row):\n",
    "    current_point = Point(row['marker_coords'][1], row['marker_coords'][0])\n",
    "    containing_series = state_geo.contains(current_point)\n",
    "    containing_series_bools = containing_series[containing_series == True]\n",
    "    \n",
    "    if containing_series_bools.empty:\n",
    "        state = 'None'\n",
    "    else:\n",
    "        state = state_geo[['id', 'nazwa']].iloc[containing_series_bools.index.item()]['nazwa']\n",
    "    return state"
   ]
  },
  {
   "cell_type": "code",
   "execution_count": 486,
   "metadata": {},
   "outputs": [],
   "source": [
    "current_point = Point(18.994487141198455, 50.25972211320963)\n",
    "current_point = Point(17.847767227493087, 49.68307698890241)\n",
    "\n",
    "\n",
    "d = state_geo.contains(current_point)"
   ]
  },
  {
   "cell_type": "code",
   "execution_count": 495,
   "metadata": {},
   "outputs": [],
   "source": [
    "df_state_markers['state'] = df_state_markers.apply(lambda row: get_state_name(row), axis=1)"
   ]
  },
  {
   "cell_type": "code",
   "execution_count": 496,
   "metadata": {},
   "outputs": [],
   "source": [
    "df_state_markers['count'] = df_state_markers.apply(lambda row: 1, axis=1)"
   ]
  },
  {
   "cell_type": "code",
   "execution_count": 498,
   "metadata": {},
   "outputs": [
    {
     "data": {
      "text/html": [
       "<div>\n",
       "<style scoped>\n",
       "    .dataframe tbody tr th:only-of-type {\n",
       "        vertical-align: middle;\n",
       "    }\n",
       "\n",
       "    .dataframe tbody tr th {\n",
       "        vertical-align: top;\n",
       "    }\n",
       "\n",
       "    .dataframe thead th {\n",
       "        text-align: right;\n",
       "    }\n",
       "</style>\n",
       "<table border=\"1\" class=\"dataframe\">\n",
       "  <thead>\n",
       "    <tr style=\"text-align: right;\">\n",
       "      <th></th>\n",
       "      <th>open_street_raw</th>\n",
       "      <th>marker_coords</th>\n",
       "      <th>inferred_location</th>\n",
       "      <th>geopy_address</th>\n",
       "      <th>voivodeship</th>\n",
       "      <th>state</th>\n",
       "      <th>county</th>\n",
       "      <th>count</th>\n",
       "    </tr>\n",
       "  </thead>\n",
       "  <tbody>\n",
       "    <tr>\n",
       "      <th>37526</th>\n",
       "      <td>NaN</td>\n",
       "      <td>[54.61025975, 18.514110303450295]</td>\n",
       "      <td>{'x': 18.514110303450295, 'y': 54.61025975, 'a...</td>\n",
       "      <td>[Molo w Mechelinkach, Nadmorska, Mechelinki, g...</td>\n",
       "      <td>województwo pomorskie</td>\n",
       "      <td>None</td>\n",
       "      <td>gmina Kosakowo</td>\n",
       "      <td>1</td>\n",
       "    </tr>\n",
       "  </tbody>\n",
       "</table>\n",
       "</div>"
      ],
      "text/plain": [
       "      open_street_raw                      marker_coords  \\\n",
       "37526             NaN  [54.61025975, 18.514110303450295]   \n",
       "\n",
       "                                       inferred_location  \\\n",
       "37526  {'x': 18.514110303450295, 'y': 54.61025975, 'a...   \n",
       "\n",
       "                                           geopy_address  \\\n",
       "37526  [Molo w Mechelinkach, Nadmorska, Mechelinki, g...   \n",
       "\n",
       "                 voivodeship state          county  count  \n",
       "37526  województwo pomorskie  None  gmina Kosakowo      1  "
      ]
     },
     "execution_count": 498,
     "metadata": {},
     "output_type": "execute_result"
    }
   ],
   "source": [
    "df_state_markers[df_state_markers['state'] == 'None']"
   ]
  },
  {
   "cell_type": "code",
   "execution_count": 499,
   "metadata": {},
   "outputs": [],
   "source": [
    "df_state_markers_count = df_state_markers.groupby(['state'])['count'].sum().reset_index()"
   ]
  },
  {
   "cell_type": "code",
   "execution_count": 503,
   "metadata": {},
   "outputs": [],
   "source": [
    "df_state_markers_count.drop(df_state_markers_count[df_state_markers_count['state'] == 'None'].index, inplace=True)"
   ]
  },
  {
   "cell_type": "code",
   "execution_count": 509,
   "metadata": {},
   "outputs": [],
   "source": [
    "df_state_markers_count.drop(df_state_markers_count[df_state_markers_count['state'] == 'powiat Warszawa'].index, inplace=True)"
   ]
  },
  {
   "cell_type": "code",
   "execution_count": 510,
   "metadata": {},
   "outputs": [],
   "source": [
    "# state_geo = geopandas.read_file('D:\\Studia\\Semestr IX\\Przetwarzanie Danych Przestrzennych\\ms_A02_Granice_powiatow.gml')\n",
    "# state_geo = geopandas.read_file('D:\\Studia\\Semestr IX\\Przetwarzanie Danych Przestrzennych\\geo_maps\\powiaty\\powiaty-max.geojson')\n",
    "\n",
    "state_map = folium.Map(location=[START_LAT, START_LON], zoom_start=START_ZOOM)\n",
    "\n",
    "folium.Choropleth(\n",
    "    geo_data=state_geo,\n",
    "    name=\"choropleth\",\n",
    "    data=df_state_markers_count,\n",
    "    columns=[\"state\", \"count\"],\n",
    "    key_on=\"feature.properties.nazwa\",\n",
    "    fill_color=\"YlGn\",\n",
    "    fill_opacity=0.7,\n",
    "    line_opacity=0.2,\n",
    "    legend_name=\"Jobs count\",\n",
    ").add_to(state_map)\n",
    "\n",
    "folium.LayerControl().add_to(state_map)\n",
    "\n",
    "for index, row in df_state_markers.iterrows():\n",
    "    folium.CircleMarker(\n",
    "        location=row['marker_coords'],\n",
    "        tooltip=row['marker_coords'],\n",
    "        radius=0.5,\n",
    "#         weight=1,\n",
    "        color=\"crimson\",\n",
    "        fill=False,\n",
    "    ).add_to(state_map)"
   ]
  },
  {
   "cell_type": "code",
   "execution_count": 511,
   "metadata": {},
   "outputs": [],
   "source": [
    "state_map.save(\"map_state_markers.html\")"
   ]
  },
  {
   "cell_type": "markdown",
   "metadata": {},
   "source": [
    "### Bezrobocie - polska"
   ]
  },
  {
   "cell_type": "code",
   "execution_count": 201,
   "metadata": {},
   "outputs": [],
   "source": [
    "df_unemployment_country = pd.read_pickle('all_data\\df_bezrobocie_polska.pkl')\n",
    "df_unemployment_voivodeship = pd.read_pickle('all_data\\df_bezrobocie_wojew.pkl')\n",
    "df_unemployment_state = pd.read_pickle('all_data\\df_bezrobocie_powiat.pkl')"
   ]
  },
  {
   "cell_type": "code",
   "execution_count": 202,
   "metadata": {},
   "outputs": [],
   "source": [
    "df_unemployment_voivodeship['unit'] = df_unemployment_voivodeship.apply(lambda row: row['unit'].replace(\" \", \"\"), axis=1)"
   ]
  },
  {
   "cell_type": "code",
   "execution_count": 203,
   "metadata": {},
   "outputs": [],
   "source": [
    "df_unemployment_voivodeship['unit'] = df_unemployment_voivodeship.apply(lambda row: row['unit'].replace(\"Woj. \", \"\", 1).lower(), axis=1)"
   ]
  },
  {
   "cell_type": "code",
   "execution_count": 204,
   "metadata": {},
   "outputs": [],
   "source": [
    "df_unemployment_state['unit'] = df_unemployment_state.apply(lambda row: row['unit'].replace(\" \", \"\"), axis=1)"
   ]
  },
  {
   "cell_type": "code",
   "execution_count": 205,
   "metadata": {},
   "outputs": [],
   "source": [
    "LANGS = [\n",
    "    'ĄąĆćĘęŁłŃńÓóŚśŹźŻż',               # Polish\n",
    "    ]\n",
    "LANGS_ = [\n",
    "    'ĄĆĘŁŃÓŚŹŻ',               # Polish\n",
    "    ]\n",
    "\n",
    "pattern = '[A-Za-z{langs}][^A-Z{langs_}]*'.format(langs=''.join(LANGS), langs_=''.join(LANGS_))\n",
    "pattern = re.compile(pattern)\n",
    "\n",
    "df_unemployment_state['unit'] = \\\n",
    "    df_unemployment_state.apply(lambda row: ' '.join(pattern.findall(row['unit'])), axis=1)"
   ]
  },
  {
   "cell_type": "code",
   "execution_count": 206,
   "metadata": {},
   "outputs": [],
   "source": [
    "df_unemployment_state['unit'] = df_unemployment_state.apply(lambda row: 'powiat ' + row['unit'], axis=1)"
   ]
  },
  {
   "cell_type": "code",
   "execution_count": 207,
   "metadata": {},
   "outputs": [],
   "source": [
    "df_unemployment_state['unit'] = df_unemployment_state.apply(lambda row: row['unit'].replace(\"m. \", \"\", 1), axis=1)\n",
    "df_unemployment_state['unit'] = df_unemployment_state.apply(lambda row: row['unit'].replace(\"m.\", \"\", 1), axis=1)"
   ]
  },
  {
   "cell_type": "code",
   "execution_count": 212,
   "metadata": {},
   "outputs": [],
   "source": [
    "df_unemployment_state['unit'] = df_unemployment_state.apply(lambda row: row['unit'].replace(\"warszawskizachodni\", \"warszawski zachodni\", 1), axis=1)\n",
    "df_unemployment_state['unit'] = df_unemployment_state.apply(lambda row: row['unit'].replace(\"łódzkiwschodni\", \"łódzki wschodni\", 1), axis=1)\n",
    "df_unemployment_state['unit'] = df_unemployment_state.apply(lambda row: row['unit'].replace(\"karkonoski\", \"jeleniogórski\", 1), axis=1)\n",
    "df_unemployment_state['unit'] = df_unemployment_state.apply(lambda row: row['unit'].replace(\"Jastrzębie- Zdrój\", \"Jastrzębie-Zdrój\", 1), axis=1)\n",
    "df_unemployment_state['unit'] = df_unemployment_state.apply(lambda row: row['unit'].replace(\"Bielsko- Biała\", \"Bielsko-Biała\", 1), axis=1)"
   ]
  },
  {
   "cell_type": "code",
   "execution_count": 213,
   "metadata": {},
   "outputs": [
    {
     "data": {
      "text/plain": [
       "283    powiat Bielsko-Biała\n",
       "Name: unit, dtype: object"
      ]
     },
     "execution_count": 213,
     "metadata": {},
     "output_type": "execute_result"
    }
   ],
   "source": [
    "df_unemployment_state[df_unemployment_state['unit'].str.contains('Biel')]['unit']"
   ]
  },
  {
   "cell_type": "markdown",
   "metadata": {},
   "source": [
    "### Bezrobocie - województwa"
   ]
  },
  {
   "cell_type": "code",
   "execution_count": 41,
   "metadata": {},
   "outputs": [
    {
     "data": {
      "text/plain": [
       "<folium.map.LayerControl at 0x1a8d48426a0>"
      ]
     },
     "execution_count": 41,
     "metadata": {},
     "output_type": "execute_result"
    }
   ],
   "source": [
    "voivodeship_geo = geopandas.read_file('D:\\Studia\\Semestr IX\\Przetwarzanie Danych Przestrzennych\\geo_maps\\wojewodztwa\\wojewodztwa-max.geojson')\n",
    "\n",
    "voivodeship_map = folium.Map(location=[START_LAT, START_LON], zoom_start=START_ZOOM)\n",
    "\n",
    "folium.Choropleth(\n",
    "    geo_data=voivodeship_geo,\n",
    "    name=\"choropleth\",\n",
    "    data=df_unemployment_voivodeship,\n",
    "    columns=[\"unit\", \"rate_p\"],\n",
    "    key_on=\"feature.properties.nazwa\",\n",
    "    fill_color=\"YlGn\",\n",
    "    fill_opacity=0.7,\n",
    "    line_opacity=0.2,\n",
    "    legend_name=\"Unemployment rate\",\n",
    ").add_to(voivodeship_map)\n",
    "\n",
    "folium.LayerControl().add_to(voivodeship_map)"
   ]
  },
  {
   "cell_type": "code",
   "execution_count": 42,
   "metadata": {},
   "outputs": [],
   "source": [
    "voivodeship_map.save(\"map_voivodeship_unemployment.html\")"
   ]
  },
  {
   "cell_type": "markdown",
   "metadata": {},
   "source": [
    "### Bezrobocie - powiaty"
   ]
  },
  {
   "cell_type": "code",
   "execution_count": 214,
   "metadata": {
    "scrolled": true
   },
   "outputs": [
    {
     "data": {
      "text/plain": [
       "<folium.map.LayerControl at 0x1a95c0b9e80>"
      ]
     },
     "execution_count": 214,
     "metadata": {},
     "output_type": "execute_result"
    }
   ],
   "source": [
    "state_geo = geopandas.read_file('D:\\Studia\\Semestr IX\\Przetwarzanie Danych Przestrzennych\\geo_maps\\powiaty\\powiaty-max.geojson')\n",
    "\n",
    "state_map = folium.Map(location=[START_LAT, START_LON], zoom_start=START_ZOOM)\n",
    "\n",
    "folium.Choropleth(\n",
    "    geo_data=state_geo,\n",
    "    name=\"choropleth\",\n",
    "    data=df_unemployment_state,\n",
    "    columns=[\"unit\", \"rate_p\"],\n",
    "    key_on=\"feature.properties.nazwa\",\n",
    "    fill_color=\"YlGn\",\n",
    "    fill_opacity=0.7,\n",
    "    line_opacity=0.2,\n",
    "    legend_name=\"Unemployment rate\",\n",
    ").add_to(state_map)\n",
    "\n",
    "folium.LayerControl().add_to(state_map)"
   ]
  },
  {
   "cell_type": "code",
   "execution_count": 216,
   "metadata": {},
   "outputs": [],
   "source": [
    "state_map.save(\"map_state_unemployment.html\")"
   ]
  },
  {
   "cell_type": "markdown",
   "metadata": {},
   "source": [
    "### Liczenie indeksu Giniego - test"
   ]
  },
  {
   "cell_type": "code",
   "execution_count": 33,
   "metadata": {},
   "outputs": [],
   "source": [
    "df_gini_idx = df_markers.copy()"
   ]
  },
  {
   "cell_type": "code",
   "execution_count": 34,
   "metadata": {},
   "outputs": [],
   "source": [
    "df_gini_idx.drop(df_gini_idx[~df_gini_idx['voivodeship'].str.contains('województwo')].index, inplace=True)"
   ]
  },
  {
   "cell_type": "code",
   "execution_count": 35,
   "metadata": {},
   "outputs": [],
   "source": [
    "state_geo = geopandas.read_file('D:\\Studia\\Semestr IX\\Przetwarzanie Danych Przestrzennych\\geo_maps\\powiaty\\powiaty-max.geojson')"
   ]
  },
  {
   "cell_type": "code",
   "execution_count": 36,
   "metadata": {},
   "outputs": [],
   "source": [
    "def get_state_name(row):\n",
    "    current_point = Point(row['marker_coords'][1], row['marker_coords'][0])\n",
    "    containing_series = state_geo.contains(current_point)\n",
    "    containing_series_bools = containing_series[containing_series == True]\n",
    "    \n",
    "    if containing_series_bools.empty:\n",
    "        state = 'None'\n",
    "    else:\n",
    "        state = state_geo[['id', 'nazwa']].iloc[containing_series_bools.index.item()]['nazwa']\n",
    "    return state"
   ]
  },
  {
   "cell_type": "code",
   "execution_count": 37,
   "metadata": {},
   "outputs": [],
   "source": [
    "df_gini_idx['state'] = df_gini_idx.apply(lambda row: get_state_name(row), axis=1)"
   ]
  },
  {
   "cell_type": "code",
   "execution_count": 39,
   "metadata": {},
   "outputs": [],
   "source": [
    "df_gini_idx['wealth'] = df_gini_idx.apply(lambda row: round(np.random.uniform(1600,7000), 2), axis=1)"
   ]
  },
  {
   "cell_type": "code",
   "execution_count": 127,
   "metadata": {},
   "outputs": [],
   "source": [
    "df_states_names = pd.read_csv('powiaty.csv')"
   ]
  },
  {
   "cell_type": "code",
   "execution_count": 134,
   "metadata": {},
   "outputs": [],
   "source": [
    "gini_indices = []\n",
    "for index, row in df_states_names.iterrows():\n",
    "    state_name = row['state_name']\n",
    "    df_state = df_gini_idx[df_gini_idx['state'] == state_name].copy()\n",
    "    df_state.sort_values('wealth', ascending=True, inplace=True)\n",
    "    df_state_mean = df_state.groupby(['state'])['wealth'].mean().reset_index()\n",
    "    state_mean = df_state_mean['wealth'].iloc[0]\n",
    "    n_records = len(df_state.index)\n",
    "    \n",
    "    gini_idx = 0.\n",
    "    for i, (index, state_row) in enumerate(df_state.iterrows()):\n",
    "        gini_idx += (2 * (i + 1) - n_records - 1) * state_row['wealth']\n",
    "    \n",
    "    gini_idx /= n_records**2 * state_mean\n",
    "    gini_indices.append(gini_idx)"
   ]
  },
  {
   "cell_type": "code",
   "execution_count": 135,
   "metadata": {},
   "outputs": [],
   "source": [
    "df_state_gini = df_states_names.copy()\n",
    "series_gini_indices = pd.Series(gini_indices)\n",
    "df_state_gini['gini_idx'] = series_gini_indices.values"
   ]
  },
  {
   "cell_type": "code",
   "execution_count": 139,
   "metadata": {},
   "outputs": [
    {
     "data": {
      "text/plain": [
       "<folium.map.LayerControl at 0x268378a2ee0>"
      ]
     },
     "execution_count": 139,
     "metadata": {},
     "output_type": "execute_result"
    }
   ],
   "source": [
    "START_LAT = 51.8512195\n",
    "START_LON = 20.8417665\n",
    "START_ZOOM = 6\n",
    "\n",
    "state_geo = geopandas.read_file('D:\\Studia\\Semestr IX\\Przetwarzanie Danych Przestrzennych\\geo_maps\\powiaty\\powiaty-max.geojson')\n",
    "\n",
    "gini_map = folium.Map(location=[START_LAT, START_LON], zoom_start=START_ZOOM)\n",
    "\n",
    "folium.Choropleth(\n",
    "    geo_data=state_geo,\n",
    "    name=\"gini_idx\",\n",
    "    data=df_state_gini,\n",
    "    columns=[\"state_name\", \"gini_idx\"],\n",
    "    key_on=\"feature.properties.nazwa\",\n",
    "    fill_color=\"YlGn\",\n",
    "    fill_opacity=0.7,\n",
    "    line_opacity=0.2,\n",
    "    legend_name=\"Gini Coefficient\",\n",
    ").add_to(gini_map)\n",
    "\n",
    "folium.LayerControl().add_to(gini_map)"
   ]
  },
  {
   "cell_type": "code",
   "execution_count": 140,
   "metadata": {},
   "outputs": [],
   "source": [
    "gini_map.save(\"map_gini_index.html\")"
   ]
  },
  {
   "cell_type": "markdown",
   "metadata": {},
   "source": [
    "### Liczenie indeksu Giniego - powiaty"
   ]
  },
  {
   "cell_type": "code",
   "execution_count": 144,
   "metadata": {},
   "outputs": [],
   "source": [
    "df_gini_idx = pd.read_csv('pracuj_powiaty_wojew_extracted_salary.csv')"
   ]
  },
  {
   "cell_type": "code",
   "execution_count": 146,
   "metadata": {},
   "outputs": [],
   "source": [
    "df_states_names = pd.read_csv('powiaty.csv')"
   ]
  },
  {
   "cell_type": "code",
   "execution_count": 150,
   "metadata": {},
   "outputs": [],
   "source": [
    "gini_indices = []\n",
    "for index, row in df_states_names.iterrows():\n",
    "    state_name = row['state_name']\n",
    "    df_state = df_gini_idx[df_gini_idx['state'] == state_name].copy()\n",
    "    df_state.sort_values('salary_inferred', ascending=True, inplace=True)\n",
    "    df_state_mean = df_state.groupby(['state'])['salary_inferred'].mean().reset_index()\n",
    "    if len(df_state_mean) != 0:\n",
    "        state_mean = df_state_mean['salary_inferred'].iloc[0]\n",
    "        n_records = len(df_state.index)\n",
    "\n",
    "        gini_idx = 0.\n",
    "        for i, (index, state_row) in enumerate(df_state.iterrows()):\n",
    "            gini_idx += (2 * (i + 1) - n_records - 1) * state_row['salary_inferred']\n",
    "\n",
    "        gini_idx /= n_records**2 * state_mean\n",
    "        gini_indices.append(gini_idx)\n",
    "    else:\n",
    "        gini_indices.append(-1.)"
   ]
  },
  {
   "cell_type": "code",
   "execution_count": 151,
   "metadata": {},
   "outputs": [],
   "source": [
    "df_state_gini = df_states_names.copy()\n",
    "series_gini_indices = pd.Series(gini_indices)\n",
    "df_state_gini['gini_idx'] = series_gini_indices.values"
   ]
  },
  {
   "cell_type": "code",
   "execution_count": 153,
   "metadata": {},
   "outputs": [
    {
     "data": {
      "text/plain": [
       "<folium.map.LayerControl at 0x2683fcf7820>"
      ]
     },
     "execution_count": 153,
     "metadata": {},
     "output_type": "execute_result"
    }
   ],
   "source": [
    "START_LAT = 51.8512195\n",
    "START_LON = 20.8417665\n",
    "START_ZOOM = 6\n",
    "\n",
    "state_geo = geopandas.read_file('D:\\Studia\\Semestr IX\\Przetwarzanie Danych Przestrzennych\\geo_maps\\powiaty\\powiaty-max.geojson')\n",
    "\n",
    "gini_map = folium.Map(location=[START_LAT, START_LON], zoom_start=START_ZOOM)\n",
    "\n",
    "folium.Choropleth(\n",
    "    geo_data=state_geo,\n",
    "    name=\"gini_idx\",\n",
    "    data=df_state_gini,\n",
    "    columns=[\"state_name\", \"gini_idx\"],\n",
    "    key_on=\"feature.properties.nazwa\",\n",
    "    fill_color=\"YlGn\",\n",
    "    fill_opacity=0.7,\n",
    "    line_opacity=0.2,\n",
    "    legend_name=\"Gini Coefficient\",\n",
    ").add_to(gini_map)\n",
    "\n",
    "folium.LayerControl().add_to(gini_map)"
   ]
  },
  {
   "cell_type": "code",
   "execution_count": 154,
   "metadata": {},
   "outputs": [],
   "source": [
    "gini_map.save(\"map_gini_index_states.html\")"
   ]
  },
  {
   "cell_type": "markdown",
   "metadata": {},
   "source": [
    "### Liczenie indeksu Giniego - województwa"
   ]
  },
  {
   "cell_type": "code",
   "execution_count": 144,
   "metadata": {},
   "outputs": [],
   "source": [
    "df_gini_idx = pd.read_csv('pracuj_powiaty_wojew_extracted_salary.csv')"
   ]
  },
  {
   "cell_type": "code",
   "execution_count": 156,
   "metadata": {},
   "outputs": [
    {
     "data": {
      "text/html": [
       "<div>\n",
       "<style scoped>\n",
       "    .dataframe tbody tr th:only-of-type {\n",
       "        vertical-align: middle;\n",
       "    }\n",
       "\n",
       "    .dataframe tbody tr th {\n",
       "        vertical-align: top;\n",
       "    }\n",
       "\n",
       "    .dataframe thead th {\n",
       "        text-align: right;\n",
       "    }\n",
       "</style>\n",
       "<table border=\"1\" class=\"dataframe\">\n",
       "  <thead>\n",
       "    <tr style=\"text-align: right;\">\n",
       "      <th></th>\n",
       "      <th>url</th>\n",
       "      <th>work_modes</th>\n",
       "      <th>remote</th>\n",
       "      <th>employment_type</th>\n",
       "      <th>schedule</th>\n",
       "      <th>contract</th>\n",
       "      <th>locations</th>\n",
       "      <th>location_url</th>\n",
       "      <th>duties</th>\n",
       "      <th>requirements</th>\n",
       "      <th>...</th>\n",
       "      <th>about_us</th>\n",
       "      <th>salary</th>\n",
       "      <th>benefits</th>\n",
       "      <th>inferred_location</th>\n",
       "      <th>marker_coords</th>\n",
       "      <th>geopy_address</th>\n",
       "      <th>voivodeship</th>\n",
       "      <th>state</th>\n",
       "      <th>county</th>\n",
       "      <th>salary_inferred</th>\n",
       "    </tr>\n",
       "  </thead>\n",
       "  <tbody>\n",
       "    <tr>\n",
       "      <th>0</th>\n",
       "      <td>https://www.pracuj.pl/praca/frontend-developer...</td>\n",
       "      <td>praca zdalna, praca hybrydowa</td>\n",
       "      <td>rekrutacja zdalna</td>\n",
       "      <td>specjalista (mid / regular)</td>\n",
       "      <td>pełny etat</td>\n",
       "      <td>umowa o pracę, kontrakt b2b</td>\n",
       "      <td>['aleja Słowiańska 10B, Bielany, Warszawa', 'W...</td>\n",
       "      <td>https://www.google.pl/maps/search/52.276634216...</td>\n",
       "      <td>[]</td>\n",
       "      <td>['wykształcenie wyższe techniczne lub równoważ...</td>\n",
       "      <td>...</td>\n",
       "      <td>BMS sp. z o.o.\\r\\nOd ponad 20 lat tworzymy zaa...</td>\n",
       "      <td>UMOWA O PRACĘ\\r\\n6 700‐13 400 zł brutto / mies...</td>\n",
       "      <td>UMOWA O PRACĘ\\r\\n6 700‐13 400 zł brutto / mies...</td>\n",
       "      <td>{'x': '20.967201232910156', 'y': '52.276634216...</td>\n",
       "      <td>[52.276634216308594, 20.967201232910156]</td>\n",
       "      <td>['10A', 'Aleja Słowiańska', 'Marymont-Kaskada'...</td>\n",
       "      <td>województwo mazowieckie</td>\n",
       "      <td>powiat Warszawa</td>\n",
       "      <td>Bielany</td>\n",
       "      <td>10050.0</td>\n",
       "    </tr>\n",
       "  </tbody>\n",
       "</table>\n",
       "<p>1 rows × 21 columns</p>\n",
       "</div>"
      ],
      "text/plain": [
       "                                                 url  \\\n",
       "0  https://www.pracuj.pl/praca/frontend-developer...   \n",
       "\n",
       "                      work_modes             remote  \\\n",
       "0  praca zdalna, praca hybrydowa  rekrutacja zdalna   \n",
       "\n",
       "               employment_type    schedule                     contract  \\\n",
       "0  specjalista (mid / regular)  pełny etat  umowa o pracę, kontrakt b2b   \n",
       "\n",
       "                                           locations  \\\n",
       "0  ['aleja Słowiańska 10B, Bielany, Warszawa', 'W...   \n",
       "\n",
       "                                        location_url duties  \\\n",
       "0  https://www.google.pl/maps/search/52.276634216...     []   \n",
       "\n",
       "                                        requirements  ...  \\\n",
       "0  ['wykształcenie wyższe techniczne lub równoważ...  ...   \n",
       "\n",
       "                                            about_us  \\\n",
       "0  BMS sp. z o.o.\\r\\nOd ponad 20 lat tworzymy zaa...   \n",
       "\n",
       "                                              salary  \\\n",
       "0  UMOWA O PRACĘ\\r\\n6 700‐13 400 zł brutto / mies...   \n",
       "\n",
       "                                            benefits  \\\n",
       "0  UMOWA O PRACĘ\\r\\n6 700‐13 400 zł brutto / mies...   \n",
       "\n",
       "                                   inferred_location  \\\n",
       "0  {'x': '20.967201232910156', 'y': '52.276634216...   \n",
       "\n",
       "                              marker_coords  \\\n",
       "0  [52.276634216308594, 20.967201232910156]   \n",
       "\n",
       "                                       geopy_address              voivodeship  \\\n",
       "0  ['10A', 'Aleja Słowiańska', 'Marymont-Kaskada'...  województwo mazowieckie   \n",
       "\n",
       "             state   county salary_inferred  \n",
       "0  powiat Warszawa  Bielany         10050.0  \n",
       "\n",
       "[1 rows x 21 columns]"
      ]
     },
     "execution_count": 156,
     "metadata": {},
     "output_type": "execute_result"
    }
   ],
   "source": [
    "df_gini_idx.head(1)"
   ]
  },
  {
   "cell_type": "code",
   "execution_count": 176,
   "metadata": {},
   "outputs": [],
   "source": [
    "df_voivodeships_names = pd.read_csv('wojewodztwa.csv')"
   ]
  },
  {
   "cell_type": "code",
   "execution_count": 178,
   "metadata": {},
   "outputs": [],
   "source": [
    "gini_indices = []\n",
    "for index, row in df_voivodeships_names.iterrows():\n",
    "    voivodeship_name = row['voivodeship_name']\n",
    "    df_voivodeship = df_gini_idx[df_gini_idx['voivodeship'] == voivodeship_name].copy()\n",
    "    df_voivodeship.sort_values('salary_inferred', ascending=True, inplace=True)\n",
    "    df_voivodeship_mean = df_voivodeship.groupby(['voivodeship'])['salary_inferred'].mean().reset_index()\n",
    "    if len(df_voivodeship_mean) != 0:\n",
    "        voivodeship_mean = df_voivodeship_mean['salary_inferred'].iloc[0]\n",
    "        n_records = len(df_voivodeship.index)\n",
    "\n",
    "        gini_idx = 0.\n",
    "        for i, (index, voivodeship_row) in enumerate(df_voivodeship.iterrows()):\n",
    "            gini_idx += (2 * (i + 1) - n_records - 1) * voivodeship_row['salary_inferred']\n",
    "\n",
    "        gini_idx /= n_records**2 * voivodeship_mean\n",
    "        gini_indices.append(gini_idx)\n",
    "    else:\n",
    "        gini_indices.append(-1.)"
   ]
  },
  {
   "cell_type": "code",
   "execution_count": 182,
   "metadata": {},
   "outputs": [],
   "source": [
    "df_state_gini = df_voivodeships_names.copy()\n",
    "series_gini_indices = pd.Series(gini_indices)\n",
    "df_state_gini['gini_idx'] = series_gini_indices.values"
   ]
  },
  {
   "cell_type": "code",
   "execution_count": 184,
   "metadata": {},
   "outputs": [],
   "source": [
    "df_state_gini['voivodeship_name'] = df_state_gini.apply(lambda row: row['voivodeship_name'].replace(\"województwo \", \"\", 1), axis=1)"
   ]
  },
  {
   "cell_type": "code",
   "execution_count": 185,
   "metadata": {},
   "outputs": [
    {
     "data": {
      "text/plain": [
       "<folium.map.LayerControl at 0x2683e1d7cd0>"
      ]
     },
     "execution_count": 185,
     "metadata": {},
     "output_type": "execute_result"
    }
   ],
   "source": [
    "START_LAT = 51.8512195\n",
    "START_LON = 20.8417665\n",
    "START_ZOOM = 6\n",
    "\n",
    "voivodeship_geo = geopandas.read_file('D:\\Studia\\Semestr IX\\Przetwarzanie Danych Przestrzennych\\geo_maps\\wojewodztwa\\wojewodztwa-max.geojson')\n",
    "\n",
    "gini_map = folium.Map(location=[START_LAT, START_LON], zoom_start=START_ZOOM)\n",
    "\n",
    "folium.Choropleth(\n",
    "    geo_data=voivodeship_geo,\n",
    "    name=\"gini_idx\",\n",
    "    data=df_state_gini,\n",
    "    columns=[\"voivodeship_name\", \"gini_idx\"],\n",
    "    key_on=\"feature.properties.nazwa\",\n",
    "    fill_color=\"YlGn\",\n",
    "    fill_opacity=0.7,\n",
    "    line_opacity=0.2,\n",
    "    legend_name=\"Gini Coefficient\",\n",
    ").add_to(gini_map)\n",
    "\n",
    "folium.LayerControl().add_to(gini_map)"
   ]
  },
  {
   "cell_type": "code",
   "execution_count": 186,
   "metadata": {},
   "outputs": [],
   "source": [
    "gini_map.save(\"map_gini_index_voivodeships.html\")"
   ]
  },
  {
   "cell_type": "markdown",
   "metadata": {},
   "source": [
    "### Pracuj.pl - zarobki w powiatach"
   ]
  },
  {
   "cell_type": "code",
   "execution_count": 99,
   "metadata": {},
   "outputs": [],
   "source": [
    "df = pd.read_csv('all_data\\pracuj_inferred_location.csv')\n",
    "df = df[df['salary'].notna()]\n",
    "df = df[df['inferred_location'].notna()]"
   ]
  },
  {
   "cell_type": "code",
   "execution_count": 100,
   "metadata": {},
   "outputs": [],
   "source": [
    "df_geodata = df.copy()"
   ]
  },
  {
   "cell_type": "code",
   "execution_count": 102,
   "metadata": {},
   "outputs": [],
   "source": [
    "df_geodata['inferred_location'] = df_geodata.apply(lambda row: ast.literal_eval(row['inferred_location']), axis=1)"
   ]
  },
  {
   "cell_type": "code",
   "execution_count": 105,
   "metadata": {},
   "outputs": [],
   "source": [
    "df_geodata['marker_coords'] = \\\n",
    "    df_geodata.apply(lambda row: [float(row['inferred_location']['y']), float(row['inferred_location']['x'])], axis=1)"
   ]
  },
  {
   "cell_type": "code",
   "execution_count": 107,
   "metadata": {},
   "outputs": [],
   "source": [
    "geolocator = Nominatim(user_agent=\"http\")\n",
    "df_geodata['geopy_address'] = \\\n",
    "    df_geodata.apply(lambda row: geolocator.reverse(row['marker_coords']).address.split(', '), axis=1)"
   ]
  },
  {
   "cell_type": "code",
   "execution_count": 109,
   "metadata": {},
   "outputs": [],
   "source": [
    "df_geodata.to_csv('pracuj_powiaty.csv', index=False)"
   ]
  },
  {
   "cell_type": "code",
   "execution_count": 125,
   "metadata": {},
   "outputs": [
    {
     "data": {
      "text/plain": [
       "4465"
      ]
     },
     "execution_count": 125,
     "metadata": {},
     "output_type": "execute_result"
    }
   ],
   "source": [
    "len(df_geodata)"
   ]
  },
  {
   "cell_type": "code",
   "execution_count": 112,
   "metadata": {},
   "outputs": [],
   "source": [
    "df_geodata['geopy_address_len'] = df_geodata.apply(lambda row: len(row['geopy_address']), axis=1)"
   ]
  },
  {
   "cell_type": "code",
   "execution_count": 113,
   "metadata": {},
   "outputs": [],
   "source": [
    "df_geodata.drop(df_geodata[df_geodata['geopy_address_len'] <= 4].index, inplace=True)\n",
    "df_geodata.drop(['geopy_address_len'], inplace = True, axis=1)\n",
    "# df_geodata.drop(['Unnamed: 0'], inplace = True, axis=1)"
   ]
  },
  {
   "cell_type": "code",
   "execution_count": 115,
   "metadata": {},
   "outputs": [],
   "source": [
    "df_geodata['country'] = df_geodata.apply(lambda row: row['geopy_address'][-1], axis=1)\n",
    "df_geodata.drop(df_geodata[df_geodata['country'] != 'Polska'].index, inplace=True)\n",
    "df_geodata.drop(['country'], inplace = True, axis=1)"
   ]
  },
  {
   "cell_type": "code",
   "execution_count": 117,
   "metadata": {},
   "outputs": [],
   "source": [
    "df_geodata['voivodeship'] = df_geodata.apply(lambda row: row['geopy_address'][-3], axis=1)"
   ]
  },
  {
   "cell_type": "code",
   "execution_count": 118,
   "metadata": {},
   "outputs": [],
   "source": [
    "df_geodata['state'] = df_geodata.apply(lambda row: row['geopy_address'][-4], axis=1)"
   ]
  },
  {
   "cell_type": "code",
   "execution_count": 119,
   "metadata": {},
   "outputs": [],
   "source": [
    "df_geodata['county'] = df_geodata.apply(lambda row: row['geopy_address'][-5], axis=1)"
   ]
  },
  {
   "cell_type": "code",
   "execution_count": 120,
   "metadata": {},
   "outputs": [],
   "source": [
    "df_geodata.drop(df_geodata[~df_geodata['voivodeship'].str.contains('województwo')].index, inplace=True)"
   ]
  },
  {
   "cell_type": "code",
   "execution_count": 122,
   "metadata": {},
   "outputs": [],
   "source": [
    "state_geo = geopandas.read_file('D:\\Studia\\Semestr IX\\Przetwarzanie Danych Przestrzennych\\geo_maps\\powiaty\\powiaty-max.geojson')"
   ]
  },
  {
   "cell_type": "code",
   "execution_count": 123,
   "metadata": {},
   "outputs": [],
   "source": [
    "def get_state_name(row):\n",
    "    current_point = Point(row['marker_coords'][1], row['marker_coords'][0])\n",
    "    containing_series = state_geo.contains(current_point)\n",
    "    containing_series_bools = containing_series[containing_series == True]\n",
    "    \n",
    "    if containing_series_bools.empty:\n",
    "        state = 'None'\n",
    "    else:\n",
    "        state = state_geo[['id', 'nazwa']].iloc[containing_series_bools.index.item()]['nazwa']\n",
    "    return state"
   ]
  },
  {
   "cell_type": "code",
   "execution_count": 124,
   "metadata": {},
   "outputs": [],
   "source": [
    "df_geodata['state'] = df_geodata.apply(lambda row: get_state_name(row), axis=1)"
   ]
  },
  {
   "cell_type": "code",
   "execution_count": 126,
   "metadata": {},
   "outputs": [],
   "source": [
    "df_geodata.to_csv('pracuj_powiaty_wojew_final.csv', index=False)"
   ]
  },
  {
   "cell_type": "code",
   "execution_count": null,
   "metadata": {},
   "outputs": [],
   "source": []
  }
 ],
 "metadata": {
  "kernelspec": {
   "display_name": "Python 3 (ipykernel)",
   "language": "python",
   "name": "python3"
  },
  "language_info": {
   "codemirror_mode": {
    "name": "ipython",
    "version": 3
   },
   "file_extension": ".py",
   "mimetype": "text/x-python",
   "name": "python",
   "nbconvert_exporter": "python",
   "pygments_lexer": "ipython3",
   "version": "3.8.5"
  }
 },
 "nbformat": 4,
 "nbformat_minor": 1
}
