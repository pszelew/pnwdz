{
 "cells": [
  {
   "cell_type": "code",
   "execution_count": 133,
   "metadata": {
    "collapsed": true
   },
   "outputs": [],
   "source": [
    "import numpy as np\n",
    "from numpy import ndarray\n",
    "from typing import List\n",
    "\n",
    "import pandas as pd\n",
    "from pathlib import Path\n",
    "import re\n",
    "import ast"
   ]
  },
  {
   "cell_type": "code",
   "execution_count": 134,
   "outputs": [],
   "source": [
    "def infer_salary(salary: str) -> float:\n",
    "  MONTHLY_HOURS = 168\n",
    "  HOURLY_MONTHLY_THRESHOLD = 1000\n",
    "  PATTERN = \"(?:umowa|contract|kontrakt)*(?:[a-zA-Z,])*(?:{BB})?(\\d*,?\\d*)-?(\\d*,?\\d*)?(?:zł)?\"\n",
    "\n",
    "  matches = re.findall(\n",
    "    PATTERN,\n",
    "    salary.replace(' ', '').replace('\\n', '').replace('B2B', 'BB'),\n",
    "    re.UNICODE | re.IGNORECASE\n",
    "  )\n",
    "\n",
    "  ranges: List[float] = []\n",
    "  for tpl in matches:\n",
    "    first, second = tpl\n",
    "    if first != '':\n",
    "      ranges.append(float(first.replace(',', '.')))\n",
    "    if second != '':\n",
    "      ranges.append(float(second.replace(',', '.')))\n",
    "\n",
    "  ranges = ranges[:2]\n",
    "\n",
    "  if any(s < HOURLY_MONTHLY_THRESHOLD for s in ranges):\n",
    "    ranges = np.array(ranges) * MONTHLY_HOURS\n",
    "\n",
    "  return float(np.mean(ranges))\n",
    "\n",
    "def infer_schedule(schedule: str) -> str:\n",
    "    schedule_map = {\n",
    "      \"pełny etat\": [1, 0, 0],\n",
    "      \"dodatkowa / tymczasowa\": [0, 0, 1],\n",
    "      \"pełny etat, część etatu, dodatkowa / tymczasowa\" : [1, 1, 1],\n",
    "      \"pełny etat, część etatu\": [1, 1, 0],\n",
    "      \"full-time\": [1, 0, 0],\n",
    "      \"część etatu\": [0, 1, 0],\n",
    "      \"pełny etat, dodatkowa / tymczasowa\": [1, 0, 1],\n",
    "      \"część etatu, dodatkowa / tymczasowa\": [0, 1, 1],\n",
    "      \"dodatkowa/tymczasowa\": [0, 0, 1],\n",
    "      \"nan\": [0, 0, 0],\n",
    "      \"full-time, part time\": [1, 1, 0],\n",
    "      \"pełny etat, część etatu, dodatkowa/tymczasowa\": [1, 1, 1],\n",
    "      \"part time\": [0, 1, 0],\n",
    "      \"part time, additional / temporary\": [0, 1, 1],\n",
    "      \"część etatu, dodatkowa/tymczasowa\": [0, 1, 1]\n",
    "    }\n",
    "\n",
    "    if pd.isnull(schedule):\n",
    "        schedule = \"nan\"\n",
    "\n",
    "    return schedule_map[schedule]\n",
    "\n",
    "def infer_employment_type(employment_type: str) -> str:\n",
    "  employment_type_map = {\n",
    "      'specjalista (mid / regular)': 'specialist',\n",
    "      'pracownik fizyczny': 'manual worker',\n",
    "      'menedżer': 'manager',\n",
    "      'asystent': 'assistant',\n",
    "      'kierownik / koordynator': 'manager',\n",
    "      'starszy specjalista (senior)': 'senior specialist',\n",
    "      'dyrektor, prezes': 'director',\n",
    "      'specialist (mid / regular)': 'specialist',\n",
    "      'team manager': 'manager',\n",
    "      'dyrektor': 'director',\n",
    "      'specjalista (mid / regular), starszy specjalista (senior)': 'specialist',\n",
    "      'młodszy specjalista (junior)': 'junior specialist',\n",
    "      'senior specialist (senior), expert': 'senior specialist',\n",
    "      'specjalista (mid / regular), młodszy specjalista (junior)': 'specialist',\n",
    "      'junior specialist (junior)': 'junior specialist',\n",
    "      'praktykant / stażysta': 'assistant',\n",
    "      'senior specialist (senior)': 'senior specialist',\n",
    "      'specialist (mid / regular), senior specialist (senior)': 'specialist',\n",
    "      'manager / supervisor': 'manager',\n",
    "      'specialist (mid / regular), junior specialist (junior)': 'specialist',\n",
    "      'kierownik / koordynator, menedżer': 'manager',\n",
    "      'assistant': 'assistant',\n",
    "      'dyrektor, menedżer': 'director',\n",
    "      'praktykant / stażysta, asystent': 'assistant',\n",
    "      'starszy specjalista (senior), ekspert': 'senior specialist',\n",
    "      'asystent, młodszy specjalista (junior)': 'assistant',\n",
    "      'assistant, junior specialist (junior)': 'assistant',\n",
    "      'entry level & blue collar': 'manual worker',\n",
    "      'director': 'director',\n",
    "      'prezes': 'director',\n",
    "      'trainee': 'assistant',\n",
    "      'ekspert': 'senior specialist',\n",
    "      'trainee, assistant': 'assistant',\n",
    "      'manager / supervisor, team manager': 'manager',\n",
    "      'nan': 'undefined'\n",
    "  }\n",
    "\n",
    "  if pd.isnull(employment_type):\n",
    "      employment_type = \"nan\"\n",
    "\n",
    "  return employment_type_map[employment_type]"
   ],
   "metadata": {
    "collapsed": false,
    "pycharm": {
     "name": "#%%\n"
    }
   }
  },
  {
   "cell_type": "code",
   "execution_count": 143,
   "outputs": [],
   "source": [
    "DATA_PATH = Path.cwd() / 'pracuj_powiaty_wojew_final.csv'\n",
    "\n",
    "df = pd.read_csv(DATA_PATH)\n",
    "# maybe use 'employment_type' as well?\n",
    "df = df.drop(['benefits', 'url', 'work_modes', 'remote', 'contract', 'locations',\n",
    "              'location_url', 'duties', 'requirements', 'offered', 'about_us',\n",
    "              'marker_coords', 'geopy_address', 'county', 'inferred_location'], axis=1)\n",
    "df = df[df['salary'].notna()]"
   ],
   "metadata": {
    "collapsed": false,
    "pycharm": {
     "name": "#%%\n"
    }
   }
  },
  {
   "cell_type": "code",
   "execution_count": 144,
   "outputs": [
    {
     "data": {
      "text/plain": "     employment_type   salary   voivodeship                state  full_time  \\\n0         specialist  10050.0   mazowieckie             Warszawa          1   \n1      manual worker   3535.0       śląskie                 Żory          1   \n2      manual worker   2456.5       śląskie                 Żory          0   \n3            manager  13000.0     pomorskie               Gdańsk          1   \n4      manual worker   3535.0       śląskie             Katowice          1   \n...              ...      ...           ...                  ...        ...   \n4460   manual worker   8250.0       śląskie                Tychy          1   \n4461   manual worker   5880.0     pomorskie          wejherowski          1   \n4462      specialist  12500.0   mazowieckie             Warszawa          1   \n4463   manual worker   6250.0   mazowieckie  warszawski zachodni          1   \n4464   manual worker   2900.0  dolnośląskie            świdnicki          1   \n\n      part_time  temporary  \n0             0          0  \n1             0          0  \n2             0          1  \n3             0          0  \n4             0          0  \n...         ...        ...  \n4460          0          0  \n4461          0          0  \n4462          0          0  \n4463          0          0  \n4464          0          0  \n\n[4465 rows x 7 columns]",
      "text/html": "<div>\n<style scoped>\n    .dataframe tbody tr th:only-of-type {\n        vertical-align: middle;\n    }\n\n    .dataframe tbody tr th {\n        vertical-align: top;\n    }\n\n    .dataframe thead th {\n        text-align: right;\n    }\n</style>\n<table border=\"1\" class=\"dataframe\">\n  <thead>\n    <tr style=\"text-align: right;\">\n      <th></th>\n      <th>employment_type</th>\n      <th>salary</th>\n      <th>voivodeship</th>\n      <th>state</th>\n      <th>full_time</th>\n      <th>part_time</th>\n      <th>temporary</th>\n    </tr>\n  </thead>\n  <tbody>\n    <tr>\n      <th>0</th>\n      <td>specialist</td>\n      <td>10050.0</td>\n      <td>mazowieckie</td>\n      <td>Warszawa</td>\n      <td>1</td>\n      <td>0</td>\n      <td>0</td>\n    </tr>\n    <tr>\n      <th>1</th>\n      <td>manual worker</td>\n      <td>3535.0</td>\n      <td>śląskie</td>\n      <td>Żory</td>\n      <td>1</td>\n      <td>0</td>\n      <td>0</td>\n    </tr>\n    <tr>\n      <th>2</th>\n      <td>manual worker</td>\n      <td>2456.5</td>\n      <td>śląskie</td>\n      <td>Żory</td>\n      <td>0</td>\n      <td>0</td>\n      <td>1</td>\n    </tr>\n    <tr>\n      <th>3</th>\n      <td>manager</td>\n      <td>13000.0</td>\n      <td>pomorskie</td>\n      <td>Gdańsk</td>\n      <td>1</td>\n      <td>0</td>\n      <td>0</td>\n    </tr>\n    <tr>\n      <th>4</th>\n      <td>manual worker</td>\n      <td>3535.0</td>\n      <td>śląskie</td>\n      <td>Katowice</td>\n      <td>1</td>\n      <td>0</td>\n      <td>0</td>\n    </tr>\n    <tr>\n      <th>...</th>\n      <td>...</td>\n      <td>...</td>\n      <td>...</td>\n      <td>...</td>\n      <td>...</td>\n      <td>...</td>\n      <td>...</td>\n    </tr>\n    <tr>\n      <th>4460</th>\n      <td>manual worker</td>\n      <td>8250.0</td>\n      <td>śląskie</td>\n      <td>Tychy</td>\n      <td>1</td>\n      <td>0</td>\n      <td>0</td>\n    </tr>\n    <tr>\n      <th>4461</th>\n      <td>manual worker</td>\n      <td>5880.0</td>\n      <td>pomorskie</td>\n      <td>wejherowski</td>\n      <td>1</td>\n      <td>0</td>\n      <td>0</td>\n    </tr>\n    <tr>\n      <th>4462</th>\n      <td>specialist</td>\n      <td>12500.0</td>\n      <td>mazowieckie</td>\n      <td>Warszawa</td>\n      <td>1</td>\n      <td>0</td>\n      <td>0</td>\n    </tr>\n    <tr>\n      <th>4463</th>\n      <td>manual worker</td>\n      <td>6250.0</td>\n      <td>mazowieckie</td>\n      <td>warszawski zachodni</td>\n      <td>1</td>\n      <td>0</td>\n      <td>0</td>\n    </tr>\n    <tr>\n      <th>4464</th>\n      <td>manual worker</td>\n      <td>2900.0</td>\n      <td>dolnośląskie</td>\n      <td>świdnicki</td>\n      <td>1</td>\n      <td>0</td>\n      <td>0</td>\n    </tr>\n  </tbody>\n</table>\n<p>4465 rows × 7 columns</p>\n</div>"
     },
     "execution_count": 144,
     "metadata": {},
     "output_type": "execute_result"
    }
   ],
   "source": [
    "df['salary'] = df.apply(lambda row: infer_salary(row['salary']), axis='columns')\n",
    "df['employment_type'] = df.apply(lambda row: infer_employment_type(row['employment_type']), axis='columns')\n",
    "df['voivodeship'] = df.apply(lambda row: row['voivodeship'].replace('województwo ', ''), axis='columns')\n",
    "df['state'] = df.apply(lambda row: row['state'].replace('powiat ', ''), axis='columns')\n",
    "df_schedules = df.apply(lambda row: infer_schedule(row['schedule']), axis='columns', result_type='expand')\n",
    "df = pd.concat([df, df_schedules], axis='columns')\\\n",
    "  .rename(columns={0: 'full_time', 1: 'part_time', 2: 'temporary'})\\\n",
    "  .drop('schedule', axis='columns')\n",
    "df"
   ],
   "metadata": {
    "collapsed": false,
    "pycharm": {
     "name": "#%%\n"
    }
   }
  },
  {
   "cell_type": "markdown",
   "source": [
    "# Model"
   ],
   "metadata": {
    "collapsed": false,
    "pycharm": {
     "name": "#%% md\n"
    }
   }
  },
  {
   "cell_type": "code",
   "execution_count": 198,
   "outputs": [],
   "source": [
    "import numpy as np\n",
    "import pandas as pd\n",
    "import xgboost as xg\n",
    "from sklearn.model_selection import train_test_split\n",
    "from sklearn.metrics import mean_squared_error as MSE\n",
    "from sklearn.metrics import r2_score\n",
    "from sklearn import preprocessing\n",
    "from sklearn.ensemble import RandomForestRegressor\n",
    "\n",
    "SEED = 0"
   ],
   "metadata": {
    "collapsed": false,
    "pycharm": {
     "name": "#%%\n"
    }
   }
  },
  {
   "cell_type": "code",
   "execution_count": 196,
   "outputs": [],
   "source": [
    "X = df.drop(['salary', 'full_time', 'part_time', 'temporary', 'state'], axis=1)\n",
    "y = df['salary']\n",
    "\n",
    "\n",
    "labels_to_encode = ['employment_type', 'voivodeship']\n",
    "encoders = [preprocessing.LabelEncoder() for _ in labels_to_encode]\n",
    "\n",
    "for label, encoder in zip (labels_to_encode, encoders):\n",
    "  encoder.fit(X[label])\n",
    "  X[label] = encoder.transform(X[label])\n",
    "\n",
    "train_X, test_X, train_y, test_y = train_test_split(X, y, test_size=0.3,\n",
    "                                                    random_state=SEED)"
   ],
   "metadata": {
    "collapsed": false,
    "pycharm": {
     "name": "#%%\n"
    }
   }
  },
  {
   "cell_type": "code",
   "execution_count": 189,
   "outputs": [
    {
     "name": "stdout",
     "output_type": "stream",
     "text": [
      "RMSE :  93443.718736\n",
      "R2 : -0.000994\n"
     ]
    }
   ],
   "source": [
    "xgb_r = xg.XGBRegressor(objective='reg:squarederror',\n",
    "                        n_estimators=100, seed=SEED)\n",
    "xgb_r.fit(train_X, train_y)\n",
    "\n",
    "pred = xgb_r.predict(test_X)\n",
    "\n",
    "rmse = np.sqrt(MSE(test_y, pred))\n",
    "r2 = r2_score(test_y, pred)\n",
    "print(\"RMSE : % f\" %(rmse))\n",
    "print(\"R2 : % f\" %(r2))"
   ],
   "metadata": {
    "collapsed": false,
    "pycharm": {
     "name": "#%%\n"
    }
   }
  },
  {
   "cell_type": "code",
   "execution_count": 214,
   "outputs": [
    {
     "name": "stdout",
     "output_type": "stream",
     "text": [
      "RMSE :  93446.282031\n",
      "R2 : -0.001049\n"
     ]
    }
   ],
   "source": [
    "regr = RandomForestRegressor(random_state=SEED)\n",
    "regr.fit(train_X, train_y)\n",
    "\n",
    "\n",
    "pred_regr = regr.predict(test_X)\n",
    "\n",
    "rmse = np.sqrt(MSE(test_y, pred_regr))\n",
    "r2 = r2_score(test_y, pred_regr)\n",
    "print(\"RMSE : % f\" %(rmse))\n",
    "print(\"R2 : % f\" %(r2))"
   ],
   "metadata": {
    "collapsed": false,
    "pycharm": {
     "name": "#%%\n"
    }
   }
  },
  {
   "cell_type": "code",
   "execution_count": 216,
   "outputs": [
    {
     "data": {
      "text/plain": "     employment_type  voivodeship  predicted_salary\n0  junior specialist  mazowieckie       5436.119629",
      "text/html": "<div>\n<style scoped>\n    .dataframe tbody tr th:only-of-type {\n        vertical-align: middle;\n    }\n\n    .dataframe tbody tr th {\n        vertical-align: top;\n    }\n\n    .dataframe thead th {\n        text-align: right;\n    }\n</style>\n<table border=\"1\" class=\"dataframe\">\n  <thead>\n    <tr style=\"text-align: right;\">\n      <th></th>\n      <th>employment_type</th>\n      <th>voivodeship</th>\n      <th>predicted_salary</th>\n    </tr>\n  </thead>\n  <tbody>\n    <tr>\n      <th>0</th>\n      <td>junior specialist</td>\n      <td>mazowieckie</td>\n      <td>5436.119629</td>\n    </tr>\n  </tbody>\n</table>\n</div>"
     },
     "execution_count": 216,
     "metadata": {},
     "output_type": "execute_result"
    }
   ],
   "source": [
    "data = ['junior specialist', 'mazowieckie']\n",
    "data = [encoder.transform([d])[0] for d, encoder in zip(data, encoders)]\n",
    "data = pd.DataFrame([data], columns=['employment_type', 'voivodeship'])\n",
    "data\n",
    "data['predicted_salary'] = xgb_r.predict(data)\n",
    "for label, encoder in zip(labels_to_encode, encoders):\n",
    "  data[label] = encoder.inverse_transform(data[label])\n",
    "\n",
    "data"
   ],
   "metadata": {
    "collapsed": false,
    "pycharm": {
     "name": "#%%\n"
    }
   }
  },
  {
   "cell_type": "code",
   "execution_count": null,
   "outputs": [],
   "source": [],
   "metadata": {
    "collapsed": false,
    "pycharm": {
     "name": "#%%\n"
    }
   }
  }
 ],
 "metadata": {
  "kernelspec": {
   "name": "pwr_pdp_projekt",
   "language": "python",
   "display_name": "Python (pwr_pdp_projekt)"
  },
  "language_info": {
   "codemirror_mode": {
    "name": "ipython",
    "version": 2
   },
   "file_extension": ".py",
   "mimetype": "text/x-python",
   "name": "python",
   "nbconvert_exporter": "python",
   "pygments_lexer": "ipython2",
   "version": "2.7.6"
  }
 },
 "nbformat": 4,
 "nbformat_minor": 0
}